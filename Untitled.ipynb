{
 "cells": [
  {
   "cell_type": "code",
   "execution_count": 1,
   "id": "0c07d8d2",
   "metadata": {
    "ExecuteTime": {
     "end_time": "2022-11-29T02:51:28.598127Z",
     "start_time": "2022-11-29T02:51:21.372366Z"
    }
   },
   "outputs": [],
   "source": [
    "import pandas as pd"
   ]
  },
  {
   "cell_type": "code",
   "execution_count": 5,
   "id": "7c110184",
   "metadata": {
    "ExecuteTime": {
     "end_time": "2022-11-29T03:38:24.099357Z",
     "start_time": "2022-11-29T03:37:50.708559Z"
    },
    "scrolled": true
   },
   "outputs": [
    {
     "name": "stderr",
     "output_type": "stream",
     "text": [
      "C:\\Users\\iCone\\anaconda3\\lib\\site-packages\\IPython\\core\\interactiveshell.py:3135: DtypeWarning: Columns (19,20) have mixed types.Specify dtype option on import or set low_memory=False.\n",
      "  has_raised = await self.run_ast_nodes(code_ast.body, cell_name,\n"
     ]
    }
   ],
   "source": [
    "azdias = pd.read_csv('Udacity_AZDIAS_052018.csv')\n",
    "customers = pd.read_csv('Udacity_CUSTOMERS_052018.csv')"
   ]
  },
  {
   "cell_type": "code",
   "execution_count": 7,
   "id": "fb1022b3",
   "metadata": {
    "ExecuteTime": {
     "end_time": "2022-11-29T03:39:33.911277Z",
     "start_time": "2022-11-29T03:39:33.898679Z"
    }
   },
   "outputs": [
    {
     "data": {
      "text/plain": [
       "(891221, 367)"
      ]
     },
     "execution_count": 7,
     "metadata": {},
     "output_type": "execute_result"
    }
   ],
   "source": [
    "azdias.shape"
   ]
  },
  {
   "cell_type": "code",
   "execution_count": null,
   "id": "606f6e17",
   "metadata": {},
   "outputs": [],
   "source": []
  },
  {
   "cell_type": "code",
   "execution_count": null,
   "id": "a5d757e9",
   "metadata": {},
   "outputs": [],
   "source": []
  },
  {
   "cell_type": "code",
   "execution_count": null,
   "id": "19e746f0",
   "metadata": {},
   "outputs": [],
   "source": []
  },
  {
   "cell_type": "code",
   "execution_count": null,
   "id": "2622e7ee",
   "metadata": {},
   "outputs": [],
   "source": []
  }
 ],
 "metadata": {
  "kernelspec": {
   "display_name": "Python 3",
   "language": "python",
   "name": "python3"
  },
  "language_info": {
   "codemirror_mode": {
    "name": "ipython",
    "version": 3
   },
   "file_extension": ".py",
   "mimetype": "text/x-python",
   "name": "python",
   "nbconvert_exporter": "python",
   "pygments_lexer": "ipython3",
   "version": "3.8.8"
  }
 },
 "nbformat": 4,
 "nbformat_minor": 5
}
