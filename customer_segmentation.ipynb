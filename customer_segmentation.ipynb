{
 "cells": [
  {
   "cell_type": "markdown",
   "id": "835a122f",
   "metadata": {},
   "source": [
    "# 0.0 Imports"
   ]
  },
  {
   "cell_type": "code",
   "execution_count": 99,
   "id": "5b288633",
   "metadata": {
    "ExecuteTime": {
     "end_time": "2022-12-09T09:00:11.612123Z",
     "start_time": "2022-12-09T09:00:11.596125Z"
    },
    "scrolled": true
   },
   "outputs": [],
   "source": [
    "import numpy as np\n",
    "import pandas as pd\n",
    "import matplotlib.pyplot as plt\n",
    "import seaborn as sns\n",
    "\n",
    "from sklearn.preprocessing import StandardScaler\n",
    "from sklearn.decomposition import PCA\n",
    "from sklearn.cluster import KMeans, MiniBatchKMeans\n",
    "from pycaret.utils import enable_colab\n",
    "from pycaret.classification import *\n",
    "%matplotlib inline"
   ]
  },
  {
   "cell_type": "markdown",
   "id": "b107e586",
   "metadata": {},
   "source": [
    "# 1.0 Data read"
   ]
  },
  {
   "cell_type": "code",
   "execution_count": 2,
   "id": "daca98c0",
   "metadata": {
    "ExecuteTime": {
     "end_time": "2022-12-07T10:36:28.495365Z",
     "start_time": "2022-12-07T10:35:35.359343Z"
    }
   },
   "outputs": [],
   "source": [
    "azdias = pd.read_csv('data/clean_AZDIAS.csv').drop('Unnamed: 0', axis=1)\n",
    "customers = pd.read_csv('data/clean_CUSTOMERS.csv').drop('Unnamed: 0', axis=1)"
   ]
  },
  {
   "cell_type": "code",
   "execution_count": 3,
   "id": "23d559db",
   "metadata": {
    "ExecuteTime": {
     "end_time": "2022-12-07T10:36:29.293563Z",
     "start_time": "2022-12-07T10:36:28.497365Z"
    }
   },
   "outputs": [],
   "source": [
    "#Let's drop the LNR column as it works as an index\n",
    "azdias.drop(columns=['LNR'], axis=1, inplace=True)\n",
    "customers.drop(columns=['LNR', 'ONLINE_PURCHASE'], axis=1, inplace=True)"
   ]
  },
  {
   "cell_type": "code",
   "execution_count": 4,
   "id": "17fa1f21",
   "metadata": {
    "ExecuteTime": {
     "end_time": "2022-12-07T10:36:29.560219Z",
     "start_time": "2022-12-07T10:36:29.296566Z"
    }
   },
   "outputs": [
    {
     "data": {
      "text/html": [
       "<div>\n",
       "<style scoped>\n",
       "    .dataframe tbody tr th:only-of-type {\n",
       "        vertical-align: middle;\n",
       "    }\n",
       "\n",
       "    .dataframe tbody tr th {\n",
       "        vertical-align: top;\n",
       "    }\n",
       "\n",
       "    .dataframe thead th {\n",
       "        text-align: right;\n",
       "    }\n",
       "</style>\n",
       "<table border=\"1\" class=\"dataframe\">\n",
       "  <thead>\n",
       "    <tr style=\"text-align: right;\">\n",
       "      <th></th>\n",
       "      <th>AGER_TYP</th>\n",
       "      <th>AKT_DAT_KL</th>\n",
       "      <th>ALTER_HH</th>\n",
       "      <th>ALTERSKATEGORIE_FEIN</th>\n",
       "      <th>ANZ_HAUSHALTE_AKTIV</th>\n",
       "      <th>ANZ_HH_TITEL</th>\n",
       "      <th>ANZ_KINDER</th>\n",
       "      <th>ANZ_PERSONEN</th>\n",
       "      <th>ANZ_STATISTISCHE_HAUSHALTE</th>\n",
       "      <th>ANZ_TITEL</th>\n",
       "      <th>...</th>\n",
       "      <th>VHN</th>\n",
       "      <th>VK_DHT4A</th>\n",
       "      <th>VK_DISTANZ</th>\n",
       "      <th>VK_ZG11</th>\n",
       "      <th>W_KEIT_KIND_HH</th>\n",
       "      <th>WOHNDAUER_2008</th>\n",
       "      <th>WOHNLAGE</th>\n",
       "      <th>ZABEOTYP</th>\n",
       "      <th>ANREDE_KZ</th>\n",
       "      <th>ALTERSKATEGORIE_GROB</th>\n",
       "    </tr>\n",
       "  </thead>\n",
       "  <tbody>\n",
       "    <tr>\n",
       "      <th>0</th>\n",
       "      <td>-1</td>\n",
       "      <td>9.0</td>\n",
       "      <td>0.0</td>\n",
       "      <td>21.0</td>\n",
       "      <td>11.0</td>\n",
       "      <td>0.0</td>\n",
       "      <td>0.0</td>\n",
       "      <td>2.0</td>\n",
       "      <td>12.0</td>\n",
       "      <td>0.0</td>\n",
       "      <td>...</td>\n",
       "      <td>4.0</td>\n",
       "      <td>8.0</td>\n",
       "      <td>11.0</td>\n",
       "      <td>10.0</td>\n",
       "      <td>3.0</td>\n",
       "      <td>9.0</td>\n",
       "      <td>4.0</td>\n",
       "      <td>5</td>\n",
       "      <td>2</td>\n",
       "      <td>1</td>\n",
       "    </tr>\n",
       "    <tr>\n",
       "      <th>1</th>\n",
       "      <td>-1</td>\n",
       "      <td>9.0</td>\n",
       "      <td>17.0</td>\n",
       "      <td>17.0</td>\n",
       "      <td>10.0</td>\n",
       "      <td>0.0</td>\n",
       "      <td>0.0</td>\n",
       "      <td>1.0</td>\n",
       "      <td>7.0</td>\n",
       "      <td>0.0</td>\n",
       "      <td>...</td>\n",
       "      <td>2.0</td>\n",
       "      <td>9.0</td>\n",
       "      <td>9.0</td>\n",
       "      <td>6.0</td>\n",
       "      <td>3.0</td>\n",
       "      <td>9.0</td>\n",
       "      <td>2.0</td>\n",
       "      <td>5</td>\n",
       "      <td>2</td>\n",
       "      <td>3</td>\n",
       "    </tr>\n",
       "    <tr>\n",
       "      <th>2</th>\n",
       "      <td>2</td>\n",
       "      <td>1.0</td>\n",
       "      <td>13.0</td>\n",
       "      <td>13.0</td>\n",
       "      <td>1.0</td>\n",
       "      <td>0.0</td>\n",
       "      <td>0.0</td>\n",
       "      <td>0.0</td>\n",
       "      <td>2.0</td>\n",
       "      <td>0.0</td>\n",
       "      <td>...</td>\n",
       "      <td>0.0</td>\n",
       "      <td>7.0</td>\n",
       "      <td>10.0</td>\n",
       "      <td>11.0</td>\n",
       "      <td>-1.0</td>\n",
       "      <td>9.0</td>\n",
       "      <td>7.0</td>\n",
       "      <td>3</td>\n",
       "      <td>2</td>\n",
       "      <td>4</td>\n",
       "    </tr>\n",
       "    <tr>\n",
       "      <th>3</th>\n",
       "      <td>-1</td>\n",
       "      <td>1.0</td>\n",
       "      <td>20.0</td>\n",
       "      <td>14.0</td>\n",
       "      <td>3.0</td>\n",
       "      <td>0.0</td>\n",
       "      <td>0.0</td>\n",
       "      <td>4.0</td>\n",
       "      <td>3.0</td>\n",
       "      <td>0.0</td>\n",
       "      <td>...</td>\n",
       "      <td>2.0</td>\n",
       "      <td>3.0</td>\n",
       "      <td>5.0</td>\n",
       "      <td>4.0</td>\n",
       "      <td>2.0</td>\n",
       "      <td>9.0</td>\n",
       "      <td>3.0</td>\n",
       "      <td>4</td>\n",
       "      <td>1</td>\n",
       "      <td>3</td>\n",
       "    </tr>\n",
       "    <tr>\n",
       "      <th>4</th>\n",
       "      <td>3</td>\n",
       "      <td>1.0</td>\n",
       "      <td>10.0</td>\n",
       "      <td>10.0</td>\n",
       "      <td>5.0</td>\n",
       "      <td>0.0</td>\n",
       "      <td>0.0</td>\n",
       "      <td>1.0</td>\n",
       "      <td>2.0</td>\n",
       "      <td>0.0</td>\n",
       "      <td>...</td>\n",
       "      <td>2.0</td>\n",
       "      <td>10.0</td>\n",
       "      <td>7.0</td>\n",
       "      <td>4.0</td>\n",
       "      <td>6.0</td>\n",
       "      <td>9.0</td>\n",
       "      <td>7.0</td>\n",
       "      <td>4</td>\n",
       "      <td>2</td>\n",
       "      <td>1</td>\n",
       "    </tr>\n",
       "  </tbody>\n",
       "</table>\n",
       "<p>5 rows × 355 columns</p>\n",
       "</div>"
      ],
      "text/plain": [
       "   AGER_TYP  AKT_DAT_KL  ALTER_HH  ALTERSKATEGORIE_FEIN  ANZ_HAUSHALTE_AKTIV  \\\n",
       "0        -1         9.0       0.0                  21.0                 11.0   \n",
       "1        -1         9.0      17.0                  17.0                 10.0   \n",
       "2         2         1.0      13.0                  13.0                  1.0   \n",
       "3        -1         1.0      20.0                  14.0                  3.0   \n",
       "4         3         1.0      10.0                  10.0                  5.0   \n",
       "\n",
       "   ANZ_HH_TITEL  ANZ_KINDER  ANZ_PERSONEN  ANZ_STATISTISCHE_HAUSHALTE  \\\n",
       "0           0.0         0.0           2.0                        12.0   \n",
       "1           0.0         0.0           1.0                         7.0   \n",
       "2           0.0         0.0           0.0                         2.0   \n",
       "3           0.0         0.0           4.0                         3.0   \n",
       "4           0.0         0.0           1.0                         2.0   \n",
       "\n",
       "   ANZ_TITEL  ...  VHN  VK_DHT4A  VK_DISTANZ  VK_ZG11  W_KEIT_KIND_HH  \\\n",
       "0        0.0  ...  4.0       8.0        11.0     10.0             3.0   \n",
       "1        0.0  ...  2.0       9.0         9.0      6.0             3.0   \n",
       "2        0.0  ...  0.0       7.0        10.0     11.0            -1.0   \n",
       "3        0.0  ...  2.0       3.0         5.0      4.0             2.0   \n",
       "4        0.0  ...  2.0      10.0         7.0      4.0             6.0   \n",
       "\n",
       "   WOHNDAUER_2008  WOHNLAGE  ZABEOTYP  ANREDE_KZ  ALTERSKATEGORIE_GROB  \n",
       "0             9.0       4.0         5          2                     1  \n",
       "1             9.0       2.0         5          2                     3  \n",
       "2             9.0       7.0         3          2                     4  \n",
       "3             9.0       3.0         4          1                     3  \n",
       "4             9.0       7.0         4          2                     1  \n",
       "\n",
       "[5 rows x 355 columns]"
      ]
     },
     "execution_count": 4,
     "metadata": {},
     "output_type": "execute_result"
    }
   ],
   "source": [
    "azdias.head()"
   ]
  },
  {
   "cell_type": "code",
   "execution_count": 48,
   "id": "cb0898ef",
   "metadata": {
    "ExecuteTime": {
     "end_time": "2022-12-09T05:51:11.181474Z",
     "start_time": "2022-12-09T05:51:08.302336Z"
    }
   },
   "outputs": [],
   "source": [
    "df_train = pd.read_csv('data/clean_TRAIN.csv', low_memory=False).drop('Unnamed: 0', axis=1)\n",
    "df_test = pd.read_csv('data/clean_TEST.csv', low_memory=False).drop('Unnamed: 0', axis=1)"
   ]
  },
  {
   "cell_type": "code",
   "execution_count": 47,
   "id": "f833e265",
   "metadata": {
    "ExecuteTime": {
     "end_time": "2022-12-09T05:50:57.585055Z",
     "start_time": "2022-12-09T05:50:57.545371Z"
    }
   },
   "outputs": [
    {
     "data": {
      "text/html": [
       "<div>\n",
       "<style scoped>\n",
       "    .dataframe tbody tr th:only-of-type {\n",
       "        vertical-align: middle;\n",
       "    }\n",
       "\n",
       "    .dataframe tbody tr th {\n",
       "        vertical-align: top;\n",
       "    }\n",
       "\n",
       "    .dataframe thead th {\n",
       "        text-align: right;\n",
       "    }\n",
       "</style>\n",
       "<table border=\"1\" class=\"dataframe\">\n",
       "  <thead>\n",
       "    <tr style=\"text-align: right;\">\n",
       "      <th></th>\n",
       "      <th>LNR</th>\n",
       "      <th>AGER_TYP</th>\n",
       "      <th>AKT_DAT_KL</th>\n",
       "      <th>ALTER_HH</th>\n",
       "      <th>ALTERSKATEGORIE_FEIN</th>\n",
       "      <th>ANZ_HAUSHALTE_AKTIV</th>\n",
       "      <th>ANZ_HH_TITEL</th>\n",
       "      <th>ANZ_KINDER</th>\n",
       "      <th>ANZ_PERSONEN</th>\n",
       "      <th>ANZ_STATISTISCHE_HAUSHALTE</th>\n",
       "      <th>...</th>\n",
       "      <th>VK_DHT4A</th>\n",
       "      <th>VK_DISTANZ</th>\n",
       "      <th>VK_ZG11</th>\n",
       "      <th>W_KEIT_KIND_HH</th>\n",
       "      <th>WOHNDAUER_2008</th>\n",
       "      <th>WOHNLAGE</th>\n",
       "      <th>ZABEOTYP</th>\n",
       "      <th>RESPONSE</th>\n",
       "      <th>ANREDE_KZ</th>\n",
       "      <th>ALTERSKATEGORIE_GROB</th>\n",
       "    </tr>\n",
       "  </thead>\n",
       "  <tbody>\n",
       "    <tr>\n",
       "      <th>0</th>\n",
       "      <td>1763</td>\n",
       "      <td>2</td>\n",
       "      <td>1.0</td>\n",
       "      <td>8.0</td>\n",
       "      <td>8.0</td>\n",
       "      <td>15.0</td>\n",
       "      <td>0.0</td>\n",
       "      <td>0.0</td>\n",
       "      <td>1.0</td>\n",
       "      <td>13.0</td>\n",
       "      <td>...</td>\n",
       "      <td>5.0</td>\n",
       "      <td>2.0</td>\n",
       "      <td>1.0</td>\n",
       "      <td>6.0</td>\n",
       "      <td>9.0</td>\n",
       "      <td>3.0</td>\n",
       "      <td>3</td>\n",
       "      <td>0</td>\n",
       "      <td>2</td>\n",
       "      <td>4</td>\n",
       "    </tr>\n",
       "    <tr>\n",
       "      <th>1</th>\n",
       "      <td>1771</td>\n",
       "      <td>1</td>\n",
       "      <td>4.0</td>\n",
       "      <td>13.0</td>\n",
       "      <td>13.0</td>\n",
       "      <td>1.0</td>\n",
       "      <td>0.0</td>\n",
       "      <td>0.0</td>\n",
       "      <td>2.0</td>\n",
       "      <td>1.0</td>\n",
       "      <td>...</td>\n",
       "      <td>1.0</td>\n",
       "      <td>2.0</td>\n",
       "      <td>1.0</td>\n",
       "      <td>4.0</td>\n",
       "      <td>9.0</td>\n",
       "      <td>7.0</td>\n",
       "      <td>1</td>\n",
       "      <td>0</td>\n",
       "      <td>2</td>\n",
       "      <td>3</td>\n",
       "    </tr>\n",
       "    <tr>\n",
       "      <th>2</th>\n",
       "      <td>1460</td>\n",
       "      <td>2</td>\n",
       "      <td>1.0</td>\n",
       "      <td>6.0</td>\n",
       "      <td>6.0</td>\n",
       "      <td>4.0</td>\n",
       "      <td>0.0</td>\n",
       "      <td>0.0</td>\n",
       "      <td>2.0</td>\n",
       "      <td>4.0</td>\n",
       "      <td>...</td>\n",
       "      <td>8.0</td>\n",
       "      <td>11.0</td>\n",
       "      <td>11.0</td>\n",
       "      <td>6.0</td>\n",
       "      <td>9.0</td>\n",
       "      <td>1.0</td>\n",
       "      <td>3</td>\n",
       "      <td>0</td>\n",
       "      <td>2</td>\n",
       "      <td>4</td>\n",
       "    </tr>\n",
       "    <tr>\n",
       "      <th>3</th>\n",
       "      <td>1783</td>\n",
       "      <td>2</td>\n",
       "      <td>1.0</td>\n",
       "      <td>9.0</td>\n",
       "      <td>9.0</td>\n",
       "      <td>53.0</td>\n",
       "      <td>0.0</td>\n",
       "      <td>0.0</td>\n",
       "      <td>1.0</td>\n",
       "      <td>44.0</td>\n",
       "      <td>...</td>\n",
       "      <td>2.0</td>\n",
       "      <td>2.0</td>\n",
       "      <td>1.0</td>\n",
       "      <td>6.0</td>\n",
       "      <td>9.0</td>\n",
       "      <td>3.0</td>\n",
       "      <td>3</td>\n",
       "      <td>0</td>\n",
       "      <td>1</td>\n",
       "      <td>3</td>\n",
       "    </tr>\n",
       "    <tr>\n",
       "      <th>4</th>\n",
       "      <td>1789</td>\n",
       "      <td>3</td>\n",
       "      <td>1.0</td>\n",
       "      <td>12.0</td>\n",
       "      <td>12.0</td>\n",
       "      <td>17.0</td>\n",
       "      <td>0.0</td>\n",
       "      <td>0.0</td>\n",
       "      <td>1.0</td>\n",
       "      <td>11.0</td>\n",
       "      <td>...</td>\n",
       "      <td>2.0</td>\n",
       "      <td>1.0</td>\n",
       "      <td>1.0</td>\n",
       "      <td>6.0</td>\n",
       "      <td>9.0</td>\n",
       "      <td>2.0</td>\n",
       "      <td>3</td>\n",
       "      <td>0</td>\n",
       "      <td>2</td>\n",
       "      <td>3</td>\n",
       "    </tr>\n",
       "  </tbody>\n",
       "</table>\n",
       "<p>5 rows × 358 columns</p>\n",
       "</div>"
      ],
      "text/plain": [
       "    LNR  AGER_TYP  AKT_DAT_KL  ALTER_HH  ALTERSKATEGORIE_FEIN  \\\n",
       "0  1763         2         1.0       8.0                   8.0   \n",
       "1  1771         1         4.0      13.0                  13.0   \n",
       "2  1460         2         1.0       6.0                   6.0   \n",
       "3  1783         2         1.0       9.0                   9.0   \n",
       "4  1789         3         1.0      12.0                  12.0   \n",
       "\n",
       "   ANZ_HAUSHALTE_AKTIV  ANZ_HH_TITEL  ANZ_KINDER  ANZ_PERSONEN  \\\n",
       "0                 15.0           0.0         0.0           1.0   \n",
       "1                  1.0           0.0         0.0           2.0   \n",
       "2                  4.0           0.0         0.0           2.0   \n",
       "3                 53.0           0.0         0.0           1.0   \n",
       "4                 17.0           0.0         0.0           1.0   \n",
       "\n",
       "   ANZ_STATISTISCHE_HAUSHALTE  ...  VK_DHT4A  VK_DISTANZ  VK_ZG11  \\\n",
       "0                        13.0  ...       5.0         2.0      1.0   \n",
       "1                         1.0  ...       1.0         2.0      1.0   \n",
       "2                         4.0  ...       8.0        11.0     11.0   \n",
       "3                        44.0  ...       2.0         2.0      1.0   \n",
       "4                        11.0  ...       2.0         1.0      1.0   \n",
       "\n",
       "   W_KEIT_KIND_HH  WOHNDAUER_2008  WOHNLAGE  ZABEOTYP  RESPONSE  ANREDE_KZ  \\\n",
       "0             6.0             9.0       3.0         3         0          2   \n",
       "1             4.0             9.0       7.0         1         0          2   \n",
       "2             6.0             9.0       1.0         3         0          2   \n",
       "3             6.0             9.0       3.0         3         0          1   \n",
       "4             6.0             9.0       2.0         3         0          2   \n",
       "\n",
       "   ALTERSKATEGORIE_GROB  \n",
       "0                     4  \n",
       "1                     3  \n",
       "2                     4  \n",
       "3                     3  \n",
       "4                     3  \n",
       "\n",
       "[5 rows x 358 columns]"
      ]
     },
     "execution_count": 47,
     "metadata": {},
     "output_type": "execute_result"
    }
   ],
   "source": [
    "df_train.head()"
   ]
  },
  {
   "cell_type": "markdown",
   "id": "b3a3c179",
   "metadata": {},
   "source": [
    "# 2.0 Scaling and PCA"
   ]
  },
  {
   "cell_type": "code",
   "execution_count": 5,
   "id": "3646f822",
   "metadata": {
    "ExecuteTime": {
     "end_time": "2022-12-07T10:36:29.592227Z",
     "start_time": "2022-12-07T10:36:29.562199Z"
    }
   },
   "outputs": [],
   "source": [
    "def get_high_corr_cols(df, t):\n",
    "    \"\"\"\n",
    "    Method to get the columns with chigh correlation coeficient (above the threshold).\n",
    "    \n",
    "    Args:\n",
    "        df: dataframe to be fixed\n",
    "        t: threshold for correlation coeficient\n",
    "\n",
    "    Returns:\n",
    "        df: fixed dataframe\n",
    "    \"\"\"\n",
    "\n",
    "    # select the upper triangle from the correlation matrix\n",
    "    upper = df.corr(method='spearman').abs().where(np.triu(np.ones(azdias.corr(method='spearman').abs().shape), k=1).astype(bool))\n",
    "\n",
    "    # find columns with correlation coeficient higher than threshold\n",
    "    pos_high_corr_cols = [column for column in upper.columns if any(upper[column] > t)]\n",
    "    neg_high_corr_cols = [column for column in upper.columns if any(upper[column] < -t)]\n",
    "    \n",
    "    high_corr_cols = pos_high_corr_cols + neg_high_corr_cols\n",
    "    \n",
    "    return high_corr_cols\n"
   ]
  },
  {
   "cell_type": "code",
   "execution_count": 6,
   "id": "ae363d34",
   "metadata": {
    "ExecuteTime": {
     "end_time": "2022-12-07T10:36:35.836295Z",
     "start_time": "2022-12-07T10:36:29.593245Z"
    }
   },
   "outputs": [],
   "source": [
    "#Standardize features\n",
    "scaler = StandardScaler()\n",
    "\n",
    "#Fit then transform data\n",
    "azdias_scaled = scaler.fit_transform(azdias)\n",
    "customers_scaled = scaler.transform(customers)"
   ]
  },
  {
   "cell_type": "code",
   "execution_count": 7,
   "id": "d4b2b91d",
   "metadata": {
    "ExecuteTime": {
     "end_time": "2022-12-07T15:39:08.080062Z",
     "start_time": "2022-12-07T10:36:35.838296Z"
    },
    "scrolled": true
   },
   "outputs": [],
   "source": [
    "# check the number of components to adopt\n",
    "variance_dict = {}\n",
    "\n",
    "for i in range(2, azdias.shape[1]-1, 2):\n",
    "    pca = PCA(n_components = i, svd_solver = 'arpack')\n",
    "    pca.fit(azdias_scaled)\n",
    "    variance_dict[i] = pca.explained_variance_ratio_.sum().round(4)\n"
   ]
  },
  {
   "cell_type": "code",
   "execution_count": 8,
   "id": "713e885f",
   "metadata": {
    "ExecuteTime": {
     "end_time": "2022-12-07T15:39:09.213222Z",
     "start_time": "2022-12-07T15:39:08.476209Z"
    }
   },
   "outputs": [
    {
     "data": {
      "text/plain": [
       "{2: 0.1643,\n",
       " 4: 0.2601,\n",
       " 6: 0.3205,\n",
       " 8: 0.3572,\n",
       " 10: 0.3864,\n",
       " 12: 0.411,\n",
       " 14: 0.4318,\n",
       " 16: 0.4509,\n",
       " 18: 0.4682,\n",
       " 20: 0.4848,\n",
       " 22: 0.4999,\n",
       " 24: 0.5143,\n",
       " 26: 0.5274,\n",
       " 28: 0.5395,\n",
       " 30: 0.551,\n",
       " 32: 0.5618,\n",
       " 34: 0.5723,\n",
       " 36: 0.5821,\n",
       " 38: 0.5916,\n",
       " 40: 0.6008,\n",
       " 42: 0.6097,\n",
       " 44: 0.618,\n",
       " 46: 0.626,\n",
       " 48: 0.6338,\n",
       " 50: 0.6413,\n",
       " 52: 0.6485,\n",
       " 54: 0.6556,\n",
       " 56: 0.6625,\n",
       " 58: 0.6691,\n",
       " 60: 0.6754,\n",
       " 62: 0.6815,\n",
       " 64: 0.6875,\n",
       " 66: 0.6934,\n",
       " 68: 0.6991,\n",
       " 70: 0.7047,\n",
       " 72: 0.7102,\n",
       " 74: 0.7156,\n",
       " 76: 0.7209,\n",
       " 78: 0.7261,\n",
       " 80: 0.7312,\n",
       " 82: 0.7363,\n",
       " 84: 0.7413,\n",
       " 86: 0.7463,\n",
       " 88: 0.7512,\n",
       " 90: 0.756,\n",
       " 92: 0.7607,\n",
       " 94: 0.7654,\n",
       " 96: 0.7701,\n",
       " 98: 0.7746,\n",
       " 100: 0.7792,\n",
       " 102: 0.7836,\n",
       " 104: 0.7879,\n",
       " 106: 0.7923,\n",
       " 108: 0.7965,\n",
       " 110: 0.8007,\n",
       " 112: 0.8049,\n",
       " 114: 0.8089,\n",
       " 116: 0.813,\n",
       " 118: 0.8169,\n",
       " 120: 0.8209,\n",
       " 122: 0.8247,\n",
       " 124: 0.8286,\n",
       " 126: 0.8324,\n",
       " 128: 0.8362,\n",
       " 130: 0.8399,\n",
       " 132: 0.8436,\n",
       " 134: 0.8473,\n",
       " 136: 0.8508,\n",
       " 138: 0.8544,\n",
       " 140: 0.8579,\n",
       " 142: 0.8613,\n",
       " 144: 0.8646,\n",
       " 146: 0.868,\n",
       " 148: 0.8712,\n",
       " 150: 0.8744,\n",
       " 152: 0.8776,\n",
       " 154: 0.8807,\n",
       " 156: 0.8838,\n",
       " 158: 0.8869,\n",
       " 160: 0.8898,\n",
       " 162: 0.8928,\n",
       " 164: 0.8956,\n",
       " 166: 0.8984,\n",
       " 168: 0.9011,\n",
       " 170: 0.9038,\n",
       " 172: 0.9063,\n",
       " 174: 0.9089,\n",
       " 176: 0.9113,\n",
       " 178: 0.9137,\n",
       " 180: 0.916,\n",
       " 182: 0.9182,\n",
       " 184: 0.9205,\n",
       " 186: 0.9226,\n",
       " 188: 0.9247,\n",
       " 190: 0.9268,\n",
       " 192: 0.9288,\n",
       " 194: 0.9308,\n",
       " 196: 0.9327,\n",
       " 198: 0.9345,\n",
       " 200: 0.9364,\n",
       " 202: 0.9381,\n",
       " 204: 0.9399,\n",
       " 206: 0.9417,\n",
       " 208: 0.9434,\n",
       " 210: 0.9451,\n",
       " 212: 0.9467,\n",
       " 214: 0.9483,\n",
       " 216: 0.9499,\n",
       " 218: 0.9514,\n",
       " 220: 0.9529,\n",
       " 222: 0.9544,\n",
       " 224: 0.9558,\n",
       " 226: 0.9572,\n",
       " 228: 0.9585,\n",
       " 230: 0.9598,\n",
       " 232: 0.9611,\n",
       " 234: 0.9624,\n",
       " 236: 0.9637,\n",
       " 238: 0.9649,\n",
       " 240: 0.9661,\n",
       " 242: 0.9673,\n",
       " 244: 0.9685,\n",
       " 246: 0.9697,\n",
       " 248: 0.9708,\n",
       " 250: 0.9719,\n",
       " 252: 0.973,\n",
       " 254: 0.974,\n",
       " 256: 0.975,\n",
       " 258: 0.9761,\n",
       " 260: 0.977,\n",
       " 262: 0.978,\n",
       " 264: 0.979,\n",
       " 266: 0.9799,\n",
       " 268: 0.9807,\n",
       " 270: 0.9816,\n",
       " 272: 0.9824,\n",
       " 274: 0.9832,\n",
       " 276: 0.9839,\n",
       " 278: 0.9847,\n",
       " 280: 0.9854,\n",
       " 282: 0.9861,\n",
       " 284: 0.9868,\n",
       " 286: 0.9874,\n",
       " 288: 0.9881,\n",
       " 290: 0.9887,\n",
       " 292: 0.9893,\n",
       " 294: 0.9899,\n",
       " 296: 0.9905,\n",
       " 298: 0.9911,\n",
       " 300: 0.9917,\n",
       " 302: 0.9922,\n",
       " 304: 0.9927,\n",
       " 306: 0.9932,\n",
       " 308: 0.9937,\n",
       " 310: 0.9941,\n",
       " 312: 0.9946,\n",
       " 314: 0.995,\n",
       " 316: 0.9954,\n",
       " 318: 0.9958,\n",
       " 320: 0.9962,\n",
       " 322: 0.9966,\n",
       " 324: 0.9969,\n",
       " 326: 0.9972,\n",
       " 328: 0.9975,\n",
       " 330: 0.9978,\n",
       " 332: 0.9981,\n",
       " 334: 0.9984,\n",
       " 336: 0.9986,\n",
       " 338: 0.9989,\n",
       " 340: 0.9991,\n",
       " 342: 0.9993,\n",
       " 344: 0.9995,\n",
       " 346: 0.9997,\n",
       " 348: 0.9998,\n",
       " 350: 0.9999,\n",
       " 352: 1.0}"
      ]
     },
     "execution_count": 8,
     "metadata": {},
     "output_type": "execute_result"
    }
   ],
   "source": [
    "variance_dict"
   ]
  },
  {
   "cell_type": "code",
   "execution_count": 9,
   "id": "f952cf54",
   "metadata": {
    "ExecuteTime": {
     "end_time": "2022-12-07T15:39:12.635610Z",
     "start_time": "2022-12-07T15:39:09.215223Z"
    },
    "scrolled": false
   },
   "outputs": [
    {
     "data": {
      "image/png": "[encoded data removed]",
      "text/plain": [
       "<Figure size 640x480 with 1 Axes>"
      ]
     },
     "metadata": {},
     "output_type": "display_data"
    }
   ],
   "source": [
    "# plot the explained variance ratio\n",
    "plt.plot(np.cumsum(pca.explained_variance_ratio_))\n",
    "plt.xlabel('components')\n",
    "plt.ylabel('explained variance ratio')\n",
    "plt.title('Explained variance ratio x number of PCA components')\n",
    "plt.axhline(y=0.95, color = 'gray', linestyle='--')\n",
    "plt.axvline(x=175, color = 'gray', linestyle='--')\n",
    "plt.annotate('95% with 175 components', (180,0.9))\n",
    "plt.show()\n"
   ]
  },
  {
   "cell_type": "code",
   "execution_count": 15,
   "id": "c5c510fc",
   "metadata": {
    "ExecuteTime": {
     "end_time": "2022-12-08T07:00:07.673650Z",
     "start_time": "2022-12-08T07:00:07.659673Z"
    }
   },
   "outputs": [],
   "source": [
    "n_pca = 175"
   ]
  },
  {
   "cell_type": "code",
   "execution_count": 16,
   "id": "f3e9b83c",
   "metadata": {
    "ExecuteTime": {
     "end_time": "2022-12-08T07:00:57.282428Z",
     "start_time": "2022-12-08T07:00:07.968566Z"
    }
   },
   "outputs": [],
   "source": [
    "pca = PCA(n_components = n_pca, random_state=42)\n",
    "\n",
    "azdias_pca = pca.fit_transform(azdias_scaled)\n",
    "azdias_pca = pd.DataFrame(azdias_pca)\n",
    "\n",
    "customer_pca = pca.transform(customers_scaled)\n",
    "customer_pca = pd.DataFrame(customer_pca)"
   ]
  },
  {
   "cell_type": "code",
   "execution_count": 17,
   "id": "e2372da1",
   "metadata": {
    "ExecuteTime": {
     "end_time": "2022-12-08T07:00:59.500007Z",
     "start_time": "2022-12-08T07:00:57.284427Z"
    }
   },
   "outputs": [
    {
     "data": {
      "text/plain": [
       "array([[ 3.0319117 , -3.87730559,  1.96697124, ..., -1.15568535,\n",
       "        -0.69344821,  0.1649242 ],\n",
       "       [-0.10208232, -0.08991488, -1.97820125, ...,  0.62563782,\n",
       "         0.57871977, -1.03006166],\n",
       "       [-1.99689229,  3.58104762, -6.43572671, ..., -0.36003648,\n",
       "         0.18881272, -0.67848394],\n",
       "       ...,\n",
       "       [-3.30317319,  1.76127685,  2.56325678, ..., -0.19063859,\n",
       "         0.46940791,  0.43318778],\n",
       "       [ 3.94142609, -6.46954121,  4.23321116, ..., -0.09710494,\n",
       "         0.54690895,  1.10209264],\n",
       "       [ 0.73671404, -0.44374917, -6.80552218, ..., -1.0685116 ,\n",
       "        -0.24101572, -0.86110489]])"
      ]
     },
     "execution_count": 17,
     "metadata": {},
     "output_type": "execute_result"
    }
   ],
   "source": [
    "# Convert dataframe to matrix\n",
    "azdias_pcaMatrix = azdias_pca.loc[:, azdias_pca.columns].to_numpy()\n",
    "azdias_pcaMatrix"
   ]
  },
  {
   "cell_type": "code",
   "execution_count": 18,
   "id": "531fb674",
   "metadata": {
    "ExecuteTime": {
     "end_time": "2022-12-08T07:01:27.982900Z",
     "start_time": "2022-12-08T07:01:04.671406Z"
    },
    "scrolled": true
   },
   "outputs": [
    {
     "name": "stdout",
     "output_type": "stream",
     "text": [
      "fitting 1 clusters\n"
     ]
    },
    {
     "name": "stderr",
     "output_type": "stream",
     "text": [
      "C:\\Users\\iCone\\anaconda3\\lib\\site-packages\\sklearn\\cluster\\_kmeans.py:1836: UserWarning: MiniBatchKMeans is known to have a memory leak on Windows with MKL, when there are less chunks than available threads. You can prevent it by setting batch_size >= 2048 or by setting the environment variable OMP_NUM_THREADS=4\n",
      "  warnings.warn(\n"
     ]
    },
    {
     "name": "stdout",
     "output_type": "stream",
     "text": [
      "fitting 2 clusters\n"
     ]
    },
    {
     "name": "stderr",
     "output_type": "stream",
     "text": [
      "C:\\Users\\iCone\\anaconda3\\lib\\site-packages\\sklearn\\cluster\\_kmeans.py:1836: UserWarning: MiniBatchKMeans is known to have a memory leak on Windows with MKL, when there are less chunks than available threads. You can prevent it by setting batch_size >= 2048 or by setting the environment variable OMP_NUM_THREADS=4\n",
      "  warnings.warn(\n"
     ]
    },
    {
     "name": "stdout",
     "output_type": "stream",
     "text": [
      "fitting 3 clusters\n"
     ]
    },
    {
     "name": "stderr",
     "output_type": "stream",
     "text": [
      "C:\\Users\\iCone\\anaconda3\\lib\\site-packages\\sklearn\\cluster\\_kmeans.py:1836: UserWarning: MiniBatchKMeans is known to have a memory leak on Windows with MKL, when there are less chunks than available threads. You can prevent it by setting batch_size >= 2048 or by setting the environment variable OMP_NUM_THREADS=4\n",
      "  warnings.warn(\n"
     ]
    },
    {
     "name": "stdout",
     "output_type": "stream",
     "text": [
      "fitting 4 clusters\n"
     ]
    },
    {
     "name": "stderr",
     "output_type": "stream",
     "text": [
      "C:\\Users\\iCone\\anaconda3\\lib\\site-packages\\sklearn\\cluster\\_kmeans.py:1836: UserWarning: MiniBatchKMeans is known to have a memory leak on Windows with MKL, when there are less chunks than available threads. You can prevent it by setting batch_size >= 2048 or by setting the environment variable OMP_NUM_THREADS=4\n",
      "  warnings.warn(\n"
     ]
    },
    {
     "name": "stdout",
     "output_type": "stream",
     "text": [
      "fitting 5 clusters\n"
     ]
    },
    {
     "name": "stderr",
     "output_type": "stream",
     "text": [
      "C:\\Users\\iCone\\anaconda3\\lib\\site-packages\\sklearn\\cluster\\_kmeans.py:1836: UserWarning: MiniBatchKMeans is known to have a memory leak on Windows with MKL, when there are less chunks than available threads. You can prevent it by setting batch_size >= 2048 or by setting the environment variable OMP_NUM_THREADS=4\n",
      "  warnings.warn(\n"
     ]
    },
    {
     "name": "stdout",
     "output_type": "stream",
     "text": [
      "fitting 6 clusters\n"
     ]
    },
    {
     "name": "stderr",
     "output_type": "stream",
     "text": [
      "C:\\Users\\iCone\\anaconda3\\lib\\site-packages\\sklearn\\cluster\\_kmeans.py:1836: UserWarning: MiniBatchKMeans is known to have a memory leak on Windows with MKL, when there are less chunks than available threads. You can prevent it by setting batch_size >= 2048 or by setting the environment variable OMP_NUM_THREADS=4\n",
      "  warnings.warn(\n"
     ]
    },
    {
     "name": "stdout",
     "output_type": "stream",
     "text": [
      "fitting 7 clusters\n"
     ]
    },
    {
     "name": "stderr",
     "output_type": "stream",
     "text": [
      "C:\\Users\\iCone\\anaconda3\\lib\\site-packages\\sklearn\\cluster\\_kmeans.py:1836: UserWarning: MiniBatchKMeans is known to have a memory leak on Windows with MKL, when there are less chunks than available threads. You can prevent it by setting batch_size >= 2048 or by setting the environment variable OMP_NUM_THREADS=4\n",
      "  warnings.warn(\n"
     ]
    },
    {
     "name": "stdout",
     "output_type": "stream",
     "text": [
      "fitting 8 clusters\n"
     ]
    },
    {
     "name": "stderr",
     "output_type": "stream",
     "text": [
      "C:\\Users\\iCone\\anaconda3\\lib\\site-packages\\sklearn\\cluster\\_kmeans.py:1836: UserWarning: MiniBatchKMeans is known to have a memory leak on Windows with MKL, when there are less chunks than available threads. You can prevent it by setting batch_size >= 2048 or by setting the environment variable OMP_NUM_THREADS=4\n",
      "  warnings.warn(\n"
     ]
    },
    {
     "name": "stdout",
     "output_type": "stream",
     "text": [
      "fitting 9 clusters\n"
     ]
    },
    {
     "name": "stderr",
     "output_type": "stream",
     "text": [
      "C:\\Users\\iCone\\anaconda3\\lib\\site-packages\\sklearn\\cluster\\_kmeans.py:1836: UserWarning: MiniBatchKMeans is known to have a memory leak on Windows with MKL, when there are less chunks than available threads. You can prevent it by setting batch_size >= 2048 or by setting the environment variable OMP_NUM_THREADS=4\n",
      "  warnings.warn(\n"
     ]
    }
   ],
   "source": [
    "## Find optimal number of clusters via scree plot\n",
    "scores = []\n",
    "for i in range(1, 10):\n",
    "    \n",
    "    print(\"fitting {} clusters\".format(i))\n",
    "    km_i = MiniBatchKMeans(n_clusters = i, random_state = 42)\n",
    "    km_i.fit(azdias_pca)\n",
    "    \n",
    "    score = km_i.inertia_\n",
    "    scores.append(score)"
   ]
  },
  {
   "cell_type": "code",
   "execution_count": 22,
   "id": "acb63187",
   "metadata": {
    "ExecuteTime": {
     "end_time": "2022-12-08T07:02:31.789088Z",
     "start_time": "2022-12-08T07:02:31.532856Z"
    },
    "scrolled": false
   },
   "outputs": [
    {
     "data": {
      "image/png": "[encoded data removed]",
      "text/plain": [
       "<Figure size 1400x700 with 1 Axes>"
      ]
     },
     "metadata": {},
     "output_type": "display_data"
    }
   ],
   "source": [
    "sns.set(style=\"whitegrid\")\n",
    "plt.figure(figsize= (14, 7))\n",
    "plt.plot(range(1, 10), scores, marker = 'o')\n",
    "plt.xticks(np.arange(0, 10, 1))\n",
    "plt.xlabel('Number of Clusters')\n",
    "plt.ylabel('Score')\n",
    "plt.title('Optimal number of cluster with Elbow Method')\n",
    "plt.show()\n"
   ]
  },
  {
   "cell_type": "markdown",
   "id": "1f2521c6",
   "metadata": {},
   "source": [
    "Looking at the graph and utilising the elbow approach, we will use n=4."
   ]
  },
  {
   "cell_type": "code",
   "execution_count": 23,
   "id": "89d123dc",
   "metadata": {
    "ExecuteTime": {
     "end_time": "2022-12-08T10:56:49.887342Z",
     "start_time": "2022-12-08T10:56:23.948390Z"
    }
   },
   "outputs": [],
   "source": [
    "# Convert dataframes to matrix\n",
    "azdiasMatrix = azdias.to_numpy()\n",
    "customersMatrix = customers.to_numpy()"
   ]
  },
  {
   "cell_type": "code",
   "execution_count": 24,
   "id": "eb060ba3",
   "metadata": {
    "ExecuteTime": {
     "end_time": "2022-12-08T10:56:49.949279Z",
     "start_time": "2022-12-08T10:56:49.937292Z"
    }
   },
   "outputs": [],
   "source": [
    "k = 4"
   ]
  },
  {
   "cell_type": "code",
   "execution_count": 25,
   "id": "5b20a7cc",
   "metadata": {
    "ExecuteTime": {
     "end_time": "2022-12-08T10:56:51.724899Z",
     "start_time": "2022-12-08T10:56:51.702855Z"
    }
   },
   "outputs": [],
   "source": [
    "kmodes = KModes(n_clusters = k, init = 'Huang', random_state = 42)"
   ]
  },
  {
   "cell_type": "code",
   "execution_count": 26,
   "id": "240a74b2",
   "metadata": {
    "ExecuteTime": {
     "end_time": "2022-12-09T05:23:12.265519Z",
     "start_time": "2022-12-08T10:57:00.240527Z"
    }
   },
   "outputs": [],
   "source": [
    "# train model\n",
    "y_pred_azdias = kmodes.fit_predict(azdiasMatrix)"
   ]
  },
  {
   "cell_type": "code",
   "execution_count": 27,
   "id": "68de4ce5",
   "metadata": {
    "ExecuteTime": {
     "end_time": "2022-12-09T05:23:15.437316Z",
     "start_time": "2022-12-09T05:23:12.444456Z"
    }
   },
   "outputs": [
    {
     "data": {
      "text/html": [
       "<div>\n",
       "<style scoped>\n",
       "    .dataframe tbody tr th:only-of-type {\n",
       "        vertical-align: middle;\n",
       "    }\n",
       "\n",
       "    .dataframe tbody tr th {\n",
       "        vertical-align: top;\n",
       "    }\n",
       "\n",
       "    .dataframe thead th {\n",
       "        text-align: right;\n",
       "    }\n",
       "</style>\n",
       "<table border=\"1\" class=\"dataframe\">\n",
       "  <thead>\n",
       "    <tr style=\"text-align: right;\">\n",
       "      <th></th>\n",
       "      <th>AGER_TYP</th>\n",
       "      <th>AKT_DAT_KL</th>\n",
       "      <th>ALTER_HH</th>\n",
       "      <th>ALTERSKATEGORIE_FEIN</th>\n",
       "      <th>ANZ_HAUSHALTE_AKTIV</th>\n",
       "      <th>ANZ_HH_TITEL</th>\n",
       "      <th>ANZ_KINDER</th>\n",
       "      <th>ANZ_PERSONEN</th>\n",
       "      <th>ANZ_STATISTISCHE_HAUSHALTE</th>\n",
       "      <th>ANZ_TITEL</th>\n",
       "      <th>...</th>\n",
       "      <th>VK_DHT4A</th>\n",
       "      <th>VK_DISTANZ</th>\n",
       "      <th>VK_ZG11</th>\n",
       "      <th>W_KEIT_KIND_HH</th>\n",
       "      <th>WOHNDAUER_2008</th>\n",
       "      <th>WOHNLAGE</th>\n",
       "      <th>ZABEOTYP</th>\n",
       "      <th>ANREDE_KZ</th>\n",
       "      <th>ALTERSKATEGORIE_GROB</th>\n",
       "      <th>cluster</th>\n",
       "    </tr>\n",
       "  </thead>\n",
       "  <tbody>\n",
       "    <tr>\n",
       "      <th>0</th>\n",
       "      <td>-1</td>\n",
       "      <td>9.0</td>\n",
       "      <td>0.0</td>\n",
       "      <td>21.0</td>\n",
       "      <td>11.0</td>\n",
       "      <td>0.0</td>\n",
       "      <td>0.0</td>\n",
       "      <td>2.0</td>\n",
       "      <td>12.0</td>\n",
       "      <td>0.0</td>\n",
       "      <td>...</td>\n",
       "      <td>8.0</td>\n",
       "      <td>11.0</td>\n",
       "      <td>10.0</td>\n",
       "      <td>3.0</td>\n",
       "      <td>9.0</td>\n",
       "      <td>4.0</td>\n",
       "      <td>5</td>\n",
       "      <td>2</td>\n",
       "      <td>1</td>\n",
       "      <td>0</td>\n",
       "    </tr>\n",
       "    <tr>\n",
       "      <th>1</th>\n",
       "      <td>-1</td>\n",
       "      <td>9.0</td>\n",
       "      <td>17.0</td>\n",
       "      <td>17.0</td>\n",
       "      <td>10.0</td>\n",
       "      <td>0.0</td>\n",
       "      <td>0.0</td>\n",
       "      <td>1.0</td>\n",
       "      <td>7.0</td>\n",
       "      <td>0.0</td>\n",
       "      <td>...</td>\n",
       "      <td>9.0</td>\n",
       "      <td>9.0</td>\n",
       "      <td>6.0</td>\n",
       "      <td>3.0</td>\n",
       "      <td>9.0</td>\n",
       "      <td>2.0</td>\n",
       "      <td>5</td>\n",
       "      <td>2</td>\n",
       "      <td>3</td>\n",
       "      <td>0</td>\n",
       "    </tr>\n",
       "    <tr>\n",
       "      <th>2</th>\n",
       "      <td>2</td>\n",
       "      <td>1.0</td>\n",
       "      <td>13.0</td>\n",
       "      <td>13.0</td>\n",
       "      <td>1.0</td>\n",
       "      <td>0.0</td>\n",
       "      <td>0.0</td>\n",
       "      <td>0.0</td>\n",
       "      <td>2.0</td>\n",
       "      <td>0.0</td>\n",
       "      <td>...</td>\n",
       "      <td>7.0</td>\n",
       "      <td>10.0</td>\n",
       "      <td>11.0</td>\n",
       "      <td>-1.0</td>\n",
       "      <td>9.0</td>\n",
       "      <td>7.0</td>\n",
       "      <td>3</td>\n",
       "      <td>2</td>\n",
       "      <td>4</td>\n",
       "      <td>2</td>\n",
       "    </tr>\n",
       "    <tr>\n",
       "      <th>3</th>\n",
       "      <td>-1</td>\n",
       "      <td>1.0</td>\n",
       "      <td>20.0</td>\n",
       "      <td>14.0</td>\n",
       "      <td>3.0</td>\n",
       "      <td>0.0</td>\n",
       "      <td>0.0</td>\n",
       "      <td>4.0</td>\n",
       "      <td>3.0</td>\n",
       "      <td>0.0</td>\n",
       "      <td>...</td>\n",
       "      <td>3.0</td>\n",
       "      <td>5.0</td>\n",
       "      <td>4.0</td>\n",
       "      <td>2.0</td>\n",
       "      <td>9.0</td>\n",
       "      <td>3.0</td>\n",
       "      <td>4</td>\n",
       "      <td>1</td>\n",
       "      <td>3</td>\n",
       "      <td>1</td>\n",
       "    </tr>\n",
       "    <tr>\n",
       "      <th>4</th>\n",
       "      <td>3</td>\n",
       "      <td>1.0</td>\n",
       "      <td>10.0</td>\n",
       "      <td>10.0</td>\n",
       "      <td>5.0</td>\n",
       "      <td>0.0</td>\n",
       "      <td>0.0</td>\n",
       "      <td>1.0</td>\n",
       "      <td>2.0</td>\n",
       "      <td>0.0</td>\n",
       "      <td>...</td>\n",
       "      <td>10.0</td>\n",
       "      <td>7.0</td>\n",
       "      <td>4.0</td>\n",
       "      <td>6.0</td>\n",
       "      <td>9.0</td>\n",
       "      <td>7.0</td>\n",
       "      <td>4</td>\n",
       "      <td>2</td>\n",
       "      <td>1</td>\n",
       "      <td>2</td>\n",
       "    </tr>\n",
       "  </tbody>\n",
       "</table>\n",
       "<p>5 rows × 356 columns</p>\n",
       "</div>"
      ],
      "text/plain": [
       "   AGER_TYP  AKT_DAT_KL  ALTER_HH  ALTERSKATEGORIE_FEIN  ANZ_HAUSHALTE_AKTIV  \\\n",
       "0        -1         9.0       0.0                  21.0                 11.0   \n",
       "1        -1         9.0      17.0                  17.0                 10.0   \n",
       "2         2         1.0      13.0                  13.0                  1.0   \n",
       "3        -1         1.0      20.0                  14.0                  3.0   \n",
       "4         3         1.0      10.0                  10.0                  5.0   \n",
       "\n",
       "   ANZ_HH_TITEL  ANZ_KINDER  ANZ_PERSONEN  ANZ_STATISTISCHE_HAUSHALTE  \\\n",
       "0           0.0         0.0           2.0                        12.0   \n",
       "1           0.0         0.0           1.0                         7.0   \n",
       "2           0.0         0.0           0.0                         2.0   \n",
       "3           0.0         0.0           4.0                         3.0   \n",
       "4           0.0         0.0           1.0                         2.0   \n",
       "\n",
       "   ANZ_TITEL  ...  VK_DHT4A  VK_DISTANZ  VK_ZG11  W_KEIT_KIND_HH  \\\n",
       "0        0.0  ...       8.0        11.0     10.0             3.0   \n",
       "1        0.0  ...       9.0         9.0      6.0             3.0   \n",
       "2        0.0  ...       7.0        10.0     11.0            -1.0   \n",
       "3        0.0  ...       3.0         5.0      4.0             2.0   \n",
       "4        0.0  ...      10.0         7.0      4.0             6.0   \n",
       "\n",
       "   WOHNDAUER_2008  WOHNLAGE  ZABEOTYP  ANREDE_KZ  ALTERSKATEGORIE_GROB  \\\n",
       "0             9.0       4.0         5          2                     1   \n",
       "1             9.0       2.0         5          2                     3   \n",
       "2             9.0       7.0         3          2                     4   \n",
       "3             9.0       3.0         4          1                     3   \n",
       "4             9.0       7.0         4          2                     1   \n",
       "\n",
       "   cluster  \n",
       "0        0  \n",
       "1        0  \n",
       "2        2  \n",
       "3        1  \n",
       "4        2  \n",
       "\n",
       "[5 rows x 356 columns]"
      ]
     },
     "execution_count": 27,
     "metadata": {},
     "output_type": "execute_result"
    }
   ],
   "source": [
    "# create cluster column and add to the dataframe\n",
    "azdias['cluster'] = kmodes.labels_\n",
    "azdias.head()"
   ]
  },
  {
   "cell_type": "code",
   "execution_count": 28,
   "id": "01d079c9",
   "metadata": {
    "ExecuteTime": {
     "end_time": "2022-12-09T05:23:16.401248Z",
     "start_time": "2022-12-09T05:23:15.777276Z"
    }
   },
   "outputs": [
    {
     "data": {
      "text/plain": [
       "0    202531\n",
       "1    200439\n",
       "2    195827\n",
       "3    138828\n",
       "Name: cluster, dtype: int64"
      ]
     },
     "execution_count": 28,
     "metadata": {},
     "output_type": "execute_result"
    }
   ],
   "source": [
    "azdias.cluster.value_counts().sort_index()"
   ]
  },
  {
   "cell_type": "code",
   "execution_count": 29,
   "id": "eeb0724e",
   "metadata": {
    "ExecuteTime": {
     "end_time": "2022-12-09T05:24:07.929646Z",
     "start_time": "2022-12-09T05:23:16.415157Z"
    }
   },
   "outputs": [],
   "source": [
    "# predict trained model on customers dataset\n",
    "y_pred_customers = kmodes.predict(customersMatrix)"
   ]
  },
  {
   "cell_type": "code",
   "execution_count": 30,
   "id": "131dca8b",
   "metadata": {
    "ExecuteTime": {
     "end_time": "2022-12-09T05:24:08.302392Z",
     "start_time": "2022-12-09T05:24:07.930644Z"
    }
   },
   "outputs": [
    {
     "data": {
      "text/html": [
       "<div>\n",
       "<style scoped>\n",
       "    .dataframe tbody tr th:only-of-type {\n",
       "        vertical-align: middle;\n",
       "    }\n",
       "\n",
       "    .dataframe tbody tr th {\n",
       "        vertical-align: top;\n",
       "    }\n",
       "\n",
       "    .dataframe thead th {\n",
       "        text-align: right;\n",
       "    }\n",
       "</style>\n",
       "<table border=\"1\" class=\"dataframe\">\n",
       "  <thead>\n",
       "    <tr style=\"text-align: right;\">\n",
       "      <th></th>\n",
       "      <th>AGER_TYP</th>\n",
       "      <th>AKT_DAT_KL</th>\n",
       "      <th>ALTER_HH</th>\n",
       "      <th>ALTERSKATEGORIE_FEIN</th>\n",
       "      <th>ANZ_HAUSHALTE_AKTIV</th>\n",
       "      <th>ANZ_HH_TITEL</th>\n",
       "      <th>ANZ_KINDER</th>\n",
       "      <th>ANZ_PERSONEN</th>\n",
       "      <th>ANZ_STATISTISCHE_HAUSHALTE</th>\n",
       "      <th>ANZ_TITEL</th>\n",
       "      <th>...</th>\n",
       "      <th>VK_DHT4A</th>\n",
       "      <th>VK_DISTANZ</th>\n",
       "      <th>VK_ZG11</th>\n",
       "      <th>W_KEIT_KIND_HH</th>\n",
       "      <th>WOHNDAUER_2008</th>\n",
       "      <th>WOHNLAGE</th>\n",
       "      <th>ZABEOTYP</th>\n",
       "      <th>ANREDE_KZ</th>\n",
       "      <th>ALTERSKATEGORIE_GROB</th>\n",
       "      <th>cluster</th>\n",
       "    </tr>\n",
       "  </thead>\n",
       "  <tbody>\n",
       "    <tr>\n",
       "      <th>0</th>\n",
       "      <td>2</td>\n",
       "      <td>1.0</td>\n",
       "      <td>10.0</td>\n",
       "      <td>10.0</td>\n",
       "      <td>1.0</td>\n",
       "      <td>0.0</td>\n",
       "      <td>0.0</td>\n",
       "      <td>2.0</td>\n",
       "      <td>1.0</td>\n",
       "      <td>0.0</td>\n",
       "      <td>...</td>\n",
       "      <td>5.0</td>\n",
       "      <td>3.0</td>\n",
       "      <td>2.0</td>\n",
       "      <td>6.0</td>\n",
       "      <td>9.0</td>\n",
       "      <td>7.0</td>\n",
       "      <td>3</td>\n",
       "      <td>1</td>\n",
       "      <td>4</td>\n",
       "      <td>2</td>\n",
       "    </tr>\n",
       "    <tr>\n",
       "      <th>1</th>\n",
       "      <td>-1</td>\n",
       "      <td>1.0</td>\n",
       "      <td>6.0</td>\n",
       "      <td>0.0</td>\n",
       "      <td>1.0</td>\n",
       "      <td>0.0</td>\n",
       "      <td>0.0</td>\n",
       "      <td>1.0</td>\n",
       "      <td>1.0</td>\n",
       "      <td>0.0</td>\n",
       "      <td>...</td>\n",
       "      <td>10.0</td>\n",
       "      <td>13.0</td>\n",
       "      <td>11.0</td>\n",
       "      <td>6.0</td>\n",
       "      <td>9.0</td>\n",
       "      <td>2.0</td>\n",
       "      <td>3</td>\n",
       "      <td>2</td>\n",
       "      <td>4</td>\n",
       "      <td>2</td>\n",
       "    </tr>\n",
       "    <tr>\n",
       "      <th>2</th>\n",
       "      <td>-1</td>\n",
       "      <td>1.0</td>\n",
       "      <td>20.0</td>\n",
       "      <td>14.0</td>\n",
       "      <td>7.0</td>\n",
       "      <td>0.0</td>\n",
       "      <td>0.0</td>\n",
       "      <td>4.0</td>\n",
       "      <td>7.0</td>\n",
       "      <td>0.0</td>\n",
       "      <td>...</td>\n",
       "      <td>3.0</td>\n",
       "      <td>5.0</td>\n",
       "      <td>4.0</td>\n",
       "      <td>2.0</td>\n",
       "      <td>9.0</td>\n",
       "      <td>3.0</td>\n",
       "      <td>1</td>\n",
       "      <td>1</td>\n",
       "      <td>3</td>\n",
       "      <td>3</td>\n",
       "    </tr>\n",
       "    <tr>\n",
       "      <th>3</th>\n",
       "      <td>1</td>\n",
       "      <td>1.0</td>\n",
       "      <td>11.0</td>\n",
       "      <td>10.0</td>\n",
       "      <td>1.0</td>\n",
       "      <td>0.0</td>\n",
       "      <td>0.0</td>\n",
       "      <td>2.0</td>\n",
       "      <td>1.0</td>\n",
       "      <td>0.0</td>\n",
       "      <td>...</td>\n",
       "      <td>1.0</td>\n",
       "      <td>2.0</td>\n",
       "      <td>1.0</td>\n",
       "      <td>6.0</td>\n",
       "      <td>9.0</td>\n",
       "      <td>1.0</td>\n",
       "      <td>2</td>\n",
       "      <td>1</td>\n",
       "      <td>3</td>\n",
       "      <td>2</td>\n",
       "    </tr>\n",
       "    <tr>\n",
       "      <th>4</th>\n",
       "      <td>2</td>\n",
       "      <td>1.0</td>\n",
       "      <td>10.0</td>\n",
       "      <td>10.0</td>\n",
       "      <td>1.0</td>\n",
       "      <td>0.0</td>\n",
       "      <td>0.0</td>\n",
       "      <td>2.0</td>\n",
       "      <td>1.0</td>\n",
       "      <td>0.0</td>\n",
       "      <td>...</td>\n",
       "      <td>3.0</td>\n",
       "      <td>4.0</td>\n",
       "      <td>2.0</td>\n",
       "      <td>6.0</td>\n",
       "      <td>9.0</td>\n",
       "      <td>7.0</td>\n",
       "      <td>1</td>\n",
       "      <td>1</td>\n",
       "      <td>4</td>\n",
       "      <td>2</td>\n",
       "    </tr>\n",
       "  </tbody>\n",
       "</table>\n",
       "<p>5 rows × 356 columns</p>\n",
       "</div>"
      ],
      "text/plain": [
       "   AGER_TYP  AKT_DAT_KL  ALTER_HH  ALTERSKATEGORIE_FEIN  ANZ_HAUSHALTE_AKTIV  \\\n",
       "0         2         1.0      10.0                  10.0                  1.0   \n",
       "1        -1         1.0       6.0                   0.0                  1.0   \n",
       "2        -1         1.0      20.0                  14.0                  7.0   \n",
       "3         1         1.0      11.0                  10.0                  1.0   \n",
       "4         2         1.0      10.0                  10.0                  1.0   \n",
       "\n",
       "   ANZ_HH_TITEL  ANZ_KINDER  ANZ_PERSONEN  ANZ_STATISTISCHE_HAUSHALTE  \\\n",
       "0           0.0         0.0           2.0                         1.0   \n",
       "1           0.0         0.0           1.0                         1.0   \n",
       "2           0.0         0.0           4.0                         7.0   \n",
       "3           0.0         0.0           2.0                         1.0   \n",
       "4           0.0         0.0           2.0                         1.0   \n",
       "\n",
       "   ANZ_TITEL  ...  VK_DHT4A  VK_DISTANZ  VK_ZG11  W_KEIT_KIND_HH  \\\n",
       "0        0.0  ...       5.0         3.0      2.0             6.0   \n",
       "1        0.0  ...      10.0        13.0     11.0             6.0   \n",
       "2        0.0  ...       3.0         5.0      4.0             2.0   \n",
       "3        0.0  ...       1.0         2.0      1.0             6.0   \n",
       "4        0.0  ...       3.0         4.0      2.0             6.0   \n",
       "\n",
       "   WOHNDAUER_2008  WOHNLAGE  ZABEOTYP  ANREDE_KZ  ALTERSKATEGORIE_GROB  \\\n",
       "0             9.0       7.0         3          1                     4   \n",
       "1             9.0       2.0         3          2                     4   \n",
       "2             9.0       3.0         1          1                     3   \n",
       "3             9.0       1.0         2          1                     3   \n",
       "4             9.0       7.0         1          1                     4   \n",
       "\n",
       "   cluster  \n",
       "0        2  \n",
       "1        2  \n",
       "2        3  \n",
       "3        2  \n",
       "4        2  \n",
       "\n",
       "[5 rows x 356 columns]"
      ]
     },
     "execution_count": 30,
     "metadata": {},
     "output_type": "execute_result"
    }
   ],
   "source": [
    "customers['cluster'] = y_pred_customers\n",
    "customers.head()"
   ]
  },
  {
   "cell_type": "code",
   "execution_count": 31,
   "id": "71ce421e",
   "metadata": {
    "ExecuteTime": {
     "end_time": "2022-12-09T05:42:55.793487Z",
     "start_time": "2022-12-09T05:42:55.618543Z"
    }
   },
   "outputs": [
    {
     "data": {
      "text/plain": [
       "0     3892\n",
       "1    38156\n",
       "2    77261\n",
       "3    10444\n",
       "Name: cluster, dtype: int64"
      ]
     },
     "execution_count": 31,
     "metadata": {},
     "output_type": "execute_result"
    }
   ],
   "source": [
    "customers.cluster.value_counts().sort_index()"
   ]
  },
  {
   "cell_type": "code",
   "execution_count": 32,
   "id": "6f281e5b",
   "metadata": {
    "ExecuteTime": {
     "end_time": "2022-12-09T05:43:06.938110Z",
     "start_time": "2022-12-09T05:43:03.580900Z"
    }
   },
   "outputs": [
    {
     "data": {
      "image/png": "[encoded data removed]",
      "text/plain": [
       "<Figure size 800x400 with 1 Axes>"
      ]
     },
     "metadata": {},
     "output_type": "display_data"
    },
    {
     "data": {
      "text/html": [
       "<div>\n",
       "<style scoped>\n",
       "    .dataframe tbody tr th:only-of-type {\n",
       "        vertical-align: middle;\n",
       "    }\n",
       "\n",
       "    .dataframe tbody tr th {\n",
       "        vertical-align: top;\n",
       "    }\n",
       "\n",
       "    .dataframe thead th {\n",
       "        text-align: right;\n",
       "    }\n",
       "</style>\n",
       "<table border=\"1\" class=\"dataframe\">\n",
       "  <thead>\n",
       "    <tr style=\"text-align: right;\">\n",
       "      <th></th>\n",
       "      <th>azdias</th>\n",
       "      <th>customers</th>\n",
       "    </tr>\n",
       "  </thead>\n",
       "  <tbody>\n",
       "    <tr>\n",
       "      <th>0</th>\n",
       "      <td>27.457177</td>\n",
       "      <td>2.999545</td>\n",
       "    </tr>\n",
       "    <tr>\n",
       "      <th>1</th>\n",
       "      <td>27.173564</td>\n",
       "      <td>29.406642</td>\n",
       "    </tr>\n",
       "    <tr>\n",
       "      <th>2</th>\n",
       "      <td>26.548314</td>\n",
       "      <td>59.544673</td>\n",
       "    </tr>\n",
       "    <tr>\n",
       "      <th>3</th>\n",
       "      <td>18.820946</td>\n",
       "      <td>8.049140</td>\n",
       "    </tr>\n",
       "  </tbody>\n",
       "</table>\n",
       "</div>"
      ],
      "text/plain": [
       "      azdias  customers\n",
       "0  27.457177   2.999545\n",
       "1  27.173564  29.406642\n",
       "2  26.548314  59.544673\n",
       "3  18.820946   8.049140"
      ]
     },
     "execution_count": 32,
     "metadata": {},
     "output_type": "execute_result"
    }
   ],
   "source": [
    "clusters_dict = {\n",
    "    'azdias': azdias.cluster.value_counts().sort_index() / azdias.shape[0] *100,\n",
    "    'customers': customers.cluster.value_counts().sort_index() / customers.shape[0] *100\n",
    "}\n",
    "\n",
    "df_clusters = pd.DataFrame(clusters_dict)\n",
    "\n",
    "# making plot\n",
    "ax = df_clusters.plot.bar(rot=0, figsize=(8,4))\n",
    "ax.set_title('AZDIAS x CUSTOMERS clusters distribution')\n",
    "ax.set_xlabel('clusters')\n",
    "ax.set_ylabel('percentage of individuals')\n",
    "plt.show()\n",
    "\n",
    "df_clusters"
   ]
  },
  {
   "cell_type": "code",
   "execution_count": 34,
   "id": "94a651e4",
   "metadata": {
    "ExecuteTime": {
     "end_time": "2022-12-09T05:43:40.304339Z",
     "start_time": "2022-12-09T05:43:40.266398Z"
    },
    "scrolled": true
   },
   "outputs": [
    {
     "data": {
      "text/html": [
       "<div>\n",
       "<style scoped>\n",
       "    .dataframe tbody tr th:only-of-type {\n",
       "        vertical-align: middle;\n",
       "    }\n",
       "\n",
       "    .dataframe tbody tr th {\n",
       "        vertical-align: top;\n",
       "    }\n",
       "\n",
       "    .dataframe thead th {\n",
       "        text-align: right;\n",
       "    }\n",
       "</style>\n",
       "<table border=\"1\" class=\"dataframe\">\n",
       "  <thead>\n",
       "    <tr style=\"text-align: right;\">\n",
       "      <th></th>\n",
       "      <th>AGER_TYP</th>\n",
       "      <th>AKT_DAT_KL</th>\n",
       "      <th>ALTER_HH</th>\n",
       "      <th>ALTERSKATEGORIE_FEIN</th>\n",
       "      <th>ANZ_HAUSHALTE_AKTIV</th>\n",
       "      <th>ANZ_HH_TITEL</th>\n",
       "      <th>ANZ_KINDER</th>\n",
       "      <th>ANZ_PERSONEN</th>\n",
       "      <th>ANZ_STATISTISCHE_HAUSHALTE</th>\n",
       "      <th>ANZ_TITEL</th>\n",
       "      <th>...</th>\n",
       "      <th>VHN</th>\n",
       "      <th>VK_DHT4A</th>\n",
       "      <th>VK_DISTANZ</th>\n",
       "      <th>VK_ZG11</th>\n",
       "      <th>W_KEIT_KIND_HH</th>\n",
       "      <th>WOHNDAUER_2008</th>\n",
       "      <th>WOHNLAGE</th>\n",
       "      <th>ZABEOTYP</th>\n",
       "      <th>ANREDE_KZ</th>\n",
       "      <th>ALTERSKATEGORIE_GROB</th>\n",
       "    </tr>\n",
       "  </thead>\n",
       "  <tbody>\n",
       "    <tr>\n",
       "      <th>cluster_0</th>\n",
       "      <td>-1.0</td>\n",
       "      <td>9.0</td>\n",
       "      <td>0.0</td>\n",
       "      <td>0.0</td>\n",
       "      <td>2.0</td>\n",
       "      <td>0.0</td>\n",
       "      <td>0.0</td>\n",
       "      <td>1.0</td>\n",
       "      <td>2.0</td>\n",
       "      <td>0.0</td>\n",
       "      <td>...</td>\n",
       "      <td>2.0</td>\n",
       "      <td>9.0</td>\n",
       "      <td>8.0</td>\n",
       "      <td>10.0</td>\n",
       "      <td>6.0</td>\n",
       "      <td>9.0</td>\n",
       "      <td>3.0</td>\n",
       "      <td>4.0</td>\n",
       "      <td>2.0</td>\n",
       "      <td>1.0</td>\n",
       "    </tr>\n",
       "    <tr>\n",
       "      <th>cluster_1</th>\n",
       "      <td>-1.0</td>\n",
       "      <td>1.0</td>\n",
       "      <td>0.0</td>\n",
       "      <td>0.0</td>\n",
       "      <td>1.0</td>\n",
       "      <td>0.0</td>\n",
       "      <td>0.0</td>\n",
       "      <td>1.0</td>\n",
       "      <td>1.0</td>\n",
       "      <td>0.0</td>\n",
       "      <td>...</td>\n",
       "      <td>2.0</td>\n",
       "      <td>3.0</td>\n",
       "      <td>3.0</td>\n",
       "      <td>5.0</td>\n",
       "      <td>4.0</td>\n",
       "      <td>9.0</td>\n",
       "      <td>7.0</td>\n",
       "      <td>4.0</td>\n",
       "      <td>1.0</td>\n",
       "      <td>3.0</td>\n",
       "    </tr>\n",
       "    <tr>\n",
       "      <th>cluster_2</th>\n",
       "      <td>-1.0</td>\n",
       "      <td>1.0</td>\n",
       "      <td>0.0</td>\n",
       "      <td>0.0</td>\n",
       "      <td>1.0</td>\n",
       "      <td>0.0</td>\n",
       "      <td>0.0</td>\n",
       "      <td>1.0</td>\n",
       "      <td>1.0</td>\n",
       "      <td>0.0</td>\n",
       "      <td>...</td>\n",
       "      <td>2.0</td>\n",
       "      <td>10.0</td>\n",
       "      <td>6.0</td>\n",
       "      <td>3.0</td>\n",
       "      <td>6.0</td>\n",
       "      <td>9.0</td>\n",
       "      <td>3.0</td>\n",
       "      <td>3.0</td>\n",
       "      <td>2.0</td>\n",
       "      <td>4.0</td>\n",
       "    </tr>\n",
       "    <tr>\n",
       "      <th>cluster_3</th>\n",
       "      <td>-1.0</td>\n",
       "      <td>9.0</td>\n",
       "      <td>0.0</td>\n",
       "      <td>0.0</td>\n",
       "      <td>8.0</td>\n",
       "      <td>0.0</td>\n",
       "      <td>0.0</td>\n",
       "      <td>1.0</td>\n",
       "      <td>7.0</td>\n",
       "      <td>0.0</td>\n",
       "      <td>...</td>\n",
       "      <td>4.0</td>\n",
       "      <td>10.0</td>\n",
       "      <td>10.0</td>\n",
       "      <td>7.0</td>\n",
       "      <td>6.0</td>\n",
       "      <td>9.0</td>\n",
       "      <td>3.0</td>\n",
       "      <td>3.0</td>\n",
       "      <td>1.0</td>\n",
       "      <td>3.0</td>\n",
       "    </tr>\n",
       "  </tbody>\n",
       "</table>\n",
       "<p>4 rows × 355 columns</p>\n",
       "</div>"
      ],
      "text/plain": [
       "           AGER_TYP  AKT_DAT_KL  ALTER_HH  ALTERSKATEGORIE_FEIN  \\\n",
       "cluster_0      -1.0         9.0       0.0                   0.0   \n",
       "cluster_1      -1.0         1.0       0.0                   0.0   \n",
       "cluster_2      -1.0         1.0       0.0                   0.0   \n",
       "cluster_3      -1.0         9.0       0.0                   0.0   \n",
       "\n",
       "           ANZ_HAUSHALTE_AKTIV  ANZ_HH_TITEL  ANZ_KINDER  ANZ_PERSONEN  \\\n",
       "cluster_0                  2.0           0.0         0.0           1.0   \n",
       "cluster_1                  1.0           0.0         0.0           1.0   \n",
       "cluster_2                  1.0           0.0         0.0           1.0   \n",
       "cluster_3                  8.0           0.0         0.0           1.0   \n",
       "\n",
       "           ANZ_STATISTISCHE_HAUSHALTE  ANZ_TITEL  ...  VHN  VK_DHT4A  \\\n",
       "cluster_0                         2.0        0.0  ...  2.0       9.0   \n",
       "cluster_1                         1.0        0.0  ...  2.0       3.0   \n",
       "cluster_2                         1.0        0.0  ...  2.0      10.0   \n",
       "cluster_3                         7.0        0.0  ...  4.0      10.0   \n",
       "\n",
       "           VK_DISTANZ  VK_ZG11  W_KEIT_KIND_HH  WOHNDAUER_2008  WOHNLAGE  \\\n",
       "cluster_0         8.0     10.0             6.0             9.0       3.0   \n",
       "cluster_1         3.0      5.0             4.0             9.0       7.0   \n",
       "cluster_2         6.0      3.0             6.0             9.0       3.0   \n",
       "cluster_3        10.0      7.0             6.0             9.0       3.0   \n",
       "\n",
       "           ZABEOTYP  ANREDE_KZ  ALTERSKATEGORIE_GROB  \n",
       "cluster_0       4.0        2.0                   1.0  \n",
       "cluster_1       4.0        1.0                   3.0  \n",
       "cluster_2       3.0        2.0                   4.0  \n",
       "cluster_3       3.0        1.0                   3.0  \n",
       "\n",
       "[4 rows x 355 columns]"
      ]
     },
     "execution_count": 34,
     "metadata": {},
     "output_type": "execute_result"
    }
   ],
   "source": [
    "# columns for centroids\n",
    "cluster_col = ['cluster']\n",
    "cols = [col for col in azdias if col not in cluster_col]\n",
    "\n",
    "# make index for cluster interpretation\n",
    "index = ['cluster_0', 'cluster_1', 'cluster_2', 'cluster_3']\n",
    "\n",
    "# make dataframe\n",
    "df_clusters_centroids = pd.DataFrame(kmodes.cluster_centroids_, columns = cols, index = index)\n",
    "df_clusters_centroids"
   ]
  },
  {
   "cell_type": "code",
   "execution_count": 35,
   "id": "9b9fd693",
   "metadata": {
    "ExecuteTime": {
     "end_time": "2022-12-09T05:43:54.126277Z",
     "start_time": "2022-12-09T05:43:54.066161Z"
    }
   },
   "outputs": [],
   "source": [
    "azdias_centroids = df_clusters_centroids.loc[(df_clusters_centroids.index == 'cluster_1') | (df_clusters_centroids.index == 'cluster_4')]\n",
    "customers_centroids = df_clusters_centroids.loc[(df_clusters_centroids.index == 'cluster_0') | (df_clusters_centroids.index == 'cluster_2') | (df_clusters_centroids.index == 'cluster_3') ]"
   ]
  },
  {
   "cell_type": "code",
   "execution_count": 36,
   "id": "a6a83e86",
   "metadata": {
    "ExecuteTime": {
     "end_time": "2022-12-09T05:44:04.067734Z",
     "start_time": "2022-12-09T05:44:04.009405Z"
    }
   },
   "outputs": [],
   "source": [
    "centr_dict = {'population': list(azdias_centroids.mean()),\n",
    "              'customers': list(customers_centroids.mean())}"
   ]
  },
  {
   "cell_type": "code",
   "execution_count": 37,
   "id": "7e6b6719",
   "metadata": {
    "ExecuteTime": {
     "end_time": "2022-12-09T05:44:59.483861Z",
     "start_time": "2022-12-09T05:44:59.468236Z"
    }
   },
   "outputs": [],
   "source": [
    "df_centr = pd.DataFrame(centr_dict, columns = ['population', 'customers'], index = df_clusters_centroids.columns)"
   ]
  },
  {
   "cell_type": "code",
   "execution_count": 38,
   "id": "a14215c5",
   "metadata": {
    "ExecuteTime": {
     "end_time": "2022-12-09T05:45:03.565547Z",
     "start_time": "2022-12-09T05:45:03.547571Z"
    }
   },
   "outputs": [
    {
     "data": {
      "text/html": [
       "<div>\n",
       "<style scoped>\n",
       "    .dataframe tbody tr th:only-of-type {\n",
       "        vertical-align: middle;\n",
       "    }\n",
       "\n",
       "    .dataframe tbody tr th {\n",
       "        vertical-align: top;\n",
       "    }\n",
       "\n",
       "    .dataframe thead th {\n",
       "        text-align: right;\n",
       "    }\n",
       "</style>\n",
       "<table border=\"1\" class=\"dataframe\">\n",
       "  <thead>\n",
       "    <tr style=\"text-align: right;\">\n",
       "      <th></th>\n",
       "      <th>population</th>\n",
       "      <th>customers</th>\n",
       "    </tr>\n",
       "  </thead>\n",
       "  <tbody>\n",
       "    <tr>\n",
       "      <th>AGER_TYP</th>\n",
       "      <td>-1.0</td>\n",
       "      <td>-1.000000</td>\n",
       "    </tr>\n",
       "    <tr>\n",
       "      <th>AKT_DAT_KL</th>\n",
       "      <td>1.0</td>\n",
       "      <td>6.333333</td>\n",
       "    </tr>\n",
       "    <tr>\n",
       "      <th>ALTER_HH</th>\n",
       "      <td>0.0</td>\n",
       "      <td>0.000000</td>\n",
       "    </tr>\n",
       "    <tr>\n",
       "      <th>ALTERSKATEGORIE_FEIN</th>\n",
       "      <td>0.0</td>\n",
       "      <td>0.000000</td>\n",
       "    </tr>\n",
       "    <tr>\n",
       "      <th>ANZ_HAUSHALTE_AKTIV</th>\n",
       "      <td>1.0</td>\n",
       "      <td>3.666667</td>\n",
       "    </tr>\n",
       "  </tbody>\n",
       "</table>\n",
       "</div>"
      ],
      "text/plain": [
       "                      population  customers\n",
       "AGER_TYP                    -1.0  -1.000000\n",
       "AKT_DAT_KL                   1.0   6.333333\n",
       "ALTER_HH                     0.0   0.000000\n",
       "ALTERSKATEGORIE_FEIN         0.0   0.000000\n",
       "ANZ_HAUSHALTE_AKTIV          1.0   3.666667"
      ]
     },
     "execution_count": 38,
     "metadata": {},
     "output_type": "execute_result"
    }
   ],
   "source": [
    "df_centr.head()"
   ]
  },
  {
   "cell_type": "code",
   "execution_count": null,
   "id": "a55a7446",
   "metadata": {},
   "outputs": [],
   "source": []
  }
 ],
 "metadata": {
  "kernelspec": {
   "display_name": "Python 3",
   "language": "python",
   "name": "python3"
  },
  "language_info": {
   "codemirror_mode": {
    "name": "ipython",
    "version": 3
   },
   "file_extension": ".py",
   "mimetype": "text/x-python",
   "name": "python",
   "nbconvert_exporter": "python",
   "pygments_lexer": "ipython3",
   "version": "3.8.8"
  }
 },
 "nbformat": 4,
 "nbformat_minor": 5
}
