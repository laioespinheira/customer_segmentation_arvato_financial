{
 "cells": [
  {
   "cell_type": "markdown",
   "id": "8498a91e",
   "metadata": {},
   "source": [
    "# 0.0 Imports and Functions"
   ]
  },
  {
   "cell_type": "code",
   "execution_count": 1,
   "id": "0c07d8d2",
   "metadata": {
    "ExecuteTime": {
     "end_time": "2022-12-09T09:02:30.101984Z",
     "start_time": "2022-12-09T09:02:24.812300Z"
    }
   },
   "outputs": [],
   "source": [
    "import pandas as pd\n",
    "import numpy as np"
   ]
  },
  {
   "cell_type": "code",
   "execution_count": 2,
   "id": "09000082",
   "metadata": {
    "ExecuteTime": {
     "end_time": "2022-12-05T08:31:27.337509Z",
     "start_time": "2022-12-05T08:31:27.323508Z"
    }
   },
   "outputs": [],
   "source": [
    "def unknown_replace_nans(df, df_att):\n",
    "    \n",
    "    \"\"\"\n",
    "    With this function we can replace NaN values on columns that take -1 as unknown values\n",
    "    \n",
    "    Input:\n",
    "        df - DataFrame that will have NAs filled\n",
    "        df_att - Description DataFrame to check which columns have the unkown meaning attributes\n",
    "        \n",
    "    Output:\n",
    "        df - DataFrame with columns with fillna done\n",
    "        \n",
    "    \"\"\"\n",
    "    # columns that has attributes unknown = -1 \n",
    "    unknown_att_cols = df_att[df_att['Meaning'] == 'unknown']['Attribute'].tolist()\n",
    "    \n",
    "    #columns we can replace NaN for unknown(-1)\n",
    "    unkown_cols = np.intersect1d(unknown_att_cols, df.columns.tolist())\n",
    "    \n",
    "    for col in unkown_cols:\n",
    "        df[col] = df[col].fillna(-1)\n",
    "    \n",
    "    return df"
   ]
  },
  {
   "cell_type": "markdown",
   "id": "d0bae208",
   "metadata": {},
   "source": [
    "# 1.0 Reading data"
   ]
  },
  {
   "cell_type": "markdown",
   "id": "6275656b",
   "metadata": {},
   "source": [
    "## 1.1 Demographics data"
   ]
  },
  {
   "cell_type": "code",
   "execution_count": 2,
   "id": "7c110184",
   "metadata": {
    "ExecuteTime": {
     "end_time": "2022-12-09T09:03:15.725415Z",
     "start_time": "2022-12-09T09:02:34.081119Z"
    },
    "scrolled": true
   },
   "outputs": [
    {
     "name": "stderr",
     "output_type": "stream",
     "text": [
      "C:\\Users\\iCone\\anaconda3\\lib\\site-packages\\IPython\\core\\interactiveshell.py:3135: DtypeWarning: Columns (19,20) have mixed types.Specify dtype option on import or set low_memory=False.\n",
      "  has_raised = await self.run_ast_nodes(code_ast.body, cell_name,\n"
     ]
    }
   ],
   "source": [
    "azdias = pd.read_csv('data/Udacity_AZDIAS_052018.csv').drop('Unnamed: 0', axis=1)\n",
    "customers = pd.read_csv('data/Udacity_CUSTOMERS_052018.csv').drop('Unnamed: 0', axis=1)"
   ]
  },
  {
   "cell_type": "code",
   "execution_count": 4,
   "id": "43c7de01",
   "metadata": {
    "ExecuteTime": {
     "end_time": "2022-12-05T08:32:03.022228Z",
     "start_time": "2022-12-05T08:32:02.786080Z"
    }
   },
   "outputs": [
    {
     "data": {
      "text/html": [
       "<div>\n",
       "<style scoped>\n",
       "    .dataframe tbody tr th:only-of-type {\n",
       "        vertical-align: middle;\n",
       "    }\n",
       "\n",
       "    .dataframe tbody tr th {\n",
       "        vertical-align: top;\n",
       "    }\n",
       "\n",
       "    .dataframe thead th {\n",
       "        text-align: right;\n",
       "    }\n",
       "</style>\n",
       "<table border=\"1\" class=\"dataframe\">\n",
       "  <thead>\n",
       "    <tr style=\"text-align: right;\">\n",
       "      <th></th>\n",
       "      <th>LNR</th>\n",
       "      <th>AGER_TYP</th>\n",
       "      <th>AKT_DAT_KL</th>\n",
       "      <th>ALTER_HH</th>\n",
       "      <th>ALTER_KIND1</th>\n",
       "      <th>ALTER_KIND2</th>\n",
       "      <th>ALTER_KIND3</th>\n",
       "      <th>ALTER_KIND4</th>\n",
       "      <th>ALTERSKATEGORIE_FEIN</th>\n",
       "      <th>ANZ_HAUSHALTE_AKTIV</th>\n",
       "      <th>...</th>\n",
       "      <th>VHN</th>\n",
       "      <th>VK_DHT4A</th>\n",
       "      <th>VK_DISTANZ</th>\n",
       "      <th>VK_ZG11</th>\n",
       "      <th>W_KEIT_KIND_HH</th>\n",
       "      <th>WOHNDAUER_2008</th>\n",
       "      <th>WOHNLAGE</th>\n",
       "      <th>ZABEOTYP</th>\n",
       "      <th>ANREDE_KZ</th>\n",
       "      <th>ALTERSKATEGORIE_GROB</th>\n",
       "    </tr>\n",
       "  </thead>\n",
       "  <tbody>\n",
       "    <tr>\n",
       "      <th>0</th>\n",
       "      <td>910215</td>\n",
       "      <td>-1</td>\n",
       "      <td>NaN</td>\n",
       "      <td>NaN</td>\n",
       "      <td>NaN</td>\n",
       "      <td>NaN</td>\n",
       "      <td>NaN</td>\n",
       "      <td>NaN</td>\n",
       "      <td>NaN</td>\n",
       "      <td>NaN</td>\n",
       "      <td>...</td>\n",
       "      <td>NaN</td>\n",
       "      <td>NaN</td>\n",
       "      <td>NaN</td>\n",
       "      <td>NaN</td>\n",
       "      <td>NaN</td>\n",
       "      <td>NaN</td>\n",
       "      <td>NaN</td>\n",
       "      <td>3</td>\n",
       "      <td>1</td>\n",
       "      <td>2</td>\n",
       "    </tr>\n",
       "    <tr>\n",
       "      <th>1</th>\n",
       "      <td>910220</td>\n",
       "      <td>-1</td>\n",
       "      <td>9.0</td>\n",
       "      <td>0.0</td>\n",
       "      <td>NaN</td>\n",
       "      <td>NaN</td>\n",
       "      <td>NaN</td>\n",
       "      <td>NaN</td>\n",
       "      <td>21.0</td>\n",
       "      <td>11.0</td>\n",
       "      <td>...</td>\n",
       "      <td>4.0</td>\n",
       "      <td>8.0</td>\n",
       "      <td>11.0</td>\n",
       "      <td>10.0</td>\n",
       "      <td>3.0</td>\n",
       "      <td>9.0</td>\n",
       "      <td>4.0</td>\n",
       "      <td>5</td>\n",
       "      <td>2</td>\n",
       "      <td>1</td>\n",
       "    </tr>\n",
       "    <tr>\n",
       "      <th>2</th>\n",
       "      <td>910225</td>\n",
       "      <td>-1</td>\n",
       "      <td>9.0</td>\n",
       "      <td>17.0</td>\n",
       "      <td>NaN</td>\n",
       "      <td>NaN</td>\n",
       "      <td>NaN</td>\n",
       "      <td>NaN</td>\n",
       "      <td>17.0</td>\n",
       "      <td>10.0</td>\n",
       "      <td>...</td>\n",
       "      <td>2.0</td>\n",
       "      <td>9.0</td>\n",
       "      <td>9.0</td>\n",
       "      <td>6.0</td>\n",
       "      <td>3.0</td>\n",
       "      <td>9.0</td>\n",
       "      <td>2.0</td>\n",
       "      <td>5</td>\n",
       "      <td>2</td>\n",
       "      <td>3</td>\n",
       "    </tr>\n",
       "    <tr>\n",
       "      <th>3</th>\n",
       "      <td>910226</td>\n",
       "      <td>2</td>\n",
       "      <td>1.0</td>\n",
       "      <td>13.0</td>\n",
       "      <td>NaN</td>\n",
       "      <td>NaN</td>\n",
       "      <td>NaN</td>\n",
       "      <td>NaN</td>\n",
       "      <td>13.0</td>\n",
       "      <td>1.0</td>\n",
       "      <td>...</td>\n",
       "      <td>0.0</td>\n",
       "      <td>7.0</td>\n",
       "      <td>10.0</td>\n",
       "      <td>11.0</td>\n",
       "      <td>NaN</td>\n",
       "      <td>9.0</td>\n",
       "      <td>7.0</td>\n",
       "      <td>3</td>\n",
       "      <td>2</td>\n",
       "      <td>4</td>\n",
       "    </tr>\n",
       "    <tr>\n",
       "      <th>4</th>\n",
       "      <td>910241</td>\n",
       "      <td>-1</td>\n",
       "      <td>1.0</td>\n",
       "      <td>20.0</td>\n",
       "      <td>NaN</td>\n",
       "      <td>NaN</td>\n",
       "      <td>NaN</td>\n",
       "      <td>NaN</td>\n",
       "      <td>14.0</td>\n",
       "      <td>3.0</td>\n",
       "      <td>...</td>\n",
       "      <td>2.0</td>\n",
       "      <td>3.0</td>\n",
       "      <td>5.0</td>\n",
       "      <td>4.0</td>\n",
       "      <td>2.0</td>\n",
       "      <td>9.0</td>\n",
       "      <td>3.0</td>\n",
       "      <td>4</td>\n",
       "      <td>1</td>\n",
       "      <td>3</td>\n",
       "    </tr>\n",
       "  </tbody>\n",
       "</table>\n",
       "<p>5 rows × 366 columns</p>\n",
       "</div>"
      ],
      "text/plain": [
       "      LNR  AGER_TYP  AKT_DAT_KL  ALTER_HH  ALTER_KIND1  ALTER_KIND2  \\\n",
       "0  910215        -1         NaN       NaN          NaN          NaN   \n",
       "1  910220        -1         9.0       0.0          NaN          NaN   \n",
       "2  910225        -1         9.0      17.0          NaN          NaN   \n",
       "3  910226         2         1.0      13.0          NaN          NaN   \n",
       "4  910241        -1         1.0      20.0          NaN          NaN   \n",
       "\n",
       "   ALTER_KIND3  ALTER_KIND4  ALTERSKATEGORIE_FEIN  ANZ_HAUSHALTE_AKTIV  ...  \\\n",
       "0          NaN          NaN                   NaN                  NaN  ...   \n",
       "1          NaN          NaN                  21.0                 11.0  ...   \n",
       "2          NaN          NaN                  17.0                 10.0  ...   \n",
       "3          NaN          NaN                  13.0                  1.0  ...   \n",
       "4          NaN          NaN                  14.0                  3.0  ...   \n",
       "\n",
       "   VHN  VK_DHT4A  VK_DISTANZ  VK_ZG11  W_KEIT_KIND_HH  WOHNDAUER_2008  \\\n",
       "0  NaN       NaN         NaN      NaN             NaN             NaN   \n",
       "1  4.0       8.0        11.0     10.0             3.0             9.0   \n",
       "2  2.0       9.0         9.0      6.0             3.0             9.0   \n",
       "3  0.0       7.0        10.0     11.0             NaN             9.0   \n",
       "4  2.0       3.0         5.0      4.0             2.0             9.0   \n",
       "\n",
       "   WOHNLAGE ZABEOTYP ANREDE_KZ ALTERSKATEGORIE_GROB  \n",
       "0       NaN        3         1                    2  \n",
       "1       4.0        5         2                    1  \n",
       "2       2.0        5         2                    3  \n",
       "3       7.0        3         2                    4  \n",
       "4       3.0        4         1                    3  \n",
       "\n",
       "[5 rows x 366 columns]"
      ]
     },
     "execution_count": 4,
     "metadata": {},
     "output_type": "execute_result"
    }
   ],
   "source": [
    "azdias.head()"
   ]
  },
  {
   "cell_type": "markdown",
   "id": "548c2b85",
   "metadata": {},
   "source": [
    "## 1.2 Description data"
   ]
  },
  {
   "cell_type": "code",
   "execution_count": 5,
   "id": "a55ce3b5",
   "metadata": {
    "ExecuteTime": {
     "end_time": "2022-12-05T08:32:06.040564Z",
     "start_time": "2022-12-05T08:32:03.023227Z"
    }
   },
   "outputs": [],
   "source": [
    "df_att = pd.read_excel('data/attributes_description/DIAS Attributes - Values 2017.xlsx', header=1).drop('Unnamed: 0', axis=1)\n",
    "df_info = pd.read_excel('data/attributes_description/DIAS Information Levels - Attributes 2017.xlsx', header=1).drop('Unnamed: 0', axis=1)"
   ]
  },
  {
   "cell_type": "code",
   "execution_count": 6,
   "id": "1b0d2086",
   "metadata": {
    "ExecuteTime": {
     "end_time": "2022-12-05T08:32:06.056569Z",
     "start_time": "2022-12-05T08:32:06.041566Z"
    }
   },
   "outputs": [
    {
     "data": {
      "text/html": [
       "<div>\n",
       "<style scoped>\n",
       "    .dataframe tbody tr th:only-of-type {\n",
       "        vertical-align: middle;\n",
       "    }\n",
       "\n",
       "    .dataframe tbody tr th {\n",
       "        vertical-align: top;\n",
       "    }\n",
       "\n",
       "    .dataframe thead th {\n",
       "        text-align: right;\n",
       "    }\n",
       "</style>\n",
       "<table border=\"1\" class=\"dataframe\">\n",
       "  <thead>\n",
       "    <tr style=\"text-align: right;\">\n",
       "      <th></th>\n",
       "      <th>Attribute</th>\n",
       "      <th>Description</th>\n",
       "      <th>Value</th>\n",
       "      <th>Meaning</th>\n",
       "    </tr>\n",
       "  </thead>\n",
       "  <tbody>\n",
       "    <tr>\n",
       "      <th>0</th>\n",
       "      <td>AGER_TYP</td>\n",
       "      <td>best-ager typology</td>\n",
       "      <td>-1</td>\n",
       "      <td>unknown</td>\n",
       "    </tr>\n",
       "    <tr>\n",
       "      <th>1</th>\n",
       "      <td>NaN</td>\n",
       "      <td>NaN</td>\n",
       "      <td>0</td>\n",
       "      <td>no classification possible</td>\n",
       "    </tr>\n",
       "    <tr>\n",
       "      <th>2</th>\n",
       "      <td>NaN</td>\n",
       "      <td>NaN</td>\n",
       "      <td>1</td>\n",
       "      <td>passive elderly</td>\n",
       "    </tr>\n",
       "    <tr>\n",
       "      <th>3</th>\n",
       "      <td>NaN</td>\n",
       "      <td>NaN</td>\n",
       "      <td>2</td>\n",
       "      <td>cultural elderly</td>\n",
       "    </tr>\n",
       "    <tr>\n",
       "      <th>4</th>\n",
       "      <td>NaN</td>\n",
       "      <td>NaN</td>\n",
       "      <td>3</td>\n",
       "      <td>experience-driven elderly</td>\n",
       "    </tr>\n",
       "  </tbody>\n",
       "</table>\n",
       "</div>"
      ],
      "text/plain": [
       "  Attribute         Description Value                     Meaning\n",
       "0  AGER_TYP  best-ager typology    -1                     unknown\n",
       "1       NaN                 NaN     0  no classification possible\n",
       "2       NaN                 NaN     1             passive elderly\n",
       "3       NaN                 NaN     2            cultural elderly\n",
       "4       NaN                 NaN     3   experience-driven elderly"
      ]
     },
     "execution_count": 6,
     "metadata": {},
     "output_type": "execute_result"
    }
   ],
   "source": [
    "df_att.head()"
   ]
  },
  {
   "cell_type": "markdown",
   "id": "b9f47369",
   "metadata": {},
   "source": [
    "# 2.0 Data Wrangling"
   ]
  },
  {
   "cell_type": "markdown",
   "id": "36463855",
   "metadata": {},
   "source": [
    "## 2.1 Handling Dtypes"
   ]
  },
  {
   "cell_type": "code",
   "execution_count": 7,
   "id": "1f46e49a",
   "metadata": {
    "ExecuteTime": {
     "end_time": "2022-12-05T08:32:06.308412Z",
     "start_time": "2022-12-05T08:32:06.058560Z"
    }
   },
   "outputs": [
    {
     "name": "stdout",
     "output_type": "stream",
     "text": [
      "CAMEO_DEUG_2015: [nan 8.0 4.0 2.0 6.0 1.0 9.0 5.0 7.0 3.0 '4' '3' '7' '2' '8' '9' '6' '5'\n",
      " '1' 'X']\n",
      "CAMEO_INTL_2015: [nan 51.0 24.0 12.0 43.0 54.0 22.0 14.0 13.0 15.0 33.0 41.0 34.0 55.0 25.0\n",
      " 23.0 31.0 52.0 35.0 45.0 44.0 32.0 '22' '24' '41' '12' '54' '51' '44'\n",
      " '35' '23' '25' '14' '34' '52' '55' '31' '32' '15' '13' '43' '33' '45'\n",
      " 'XX']\n"
     ]
    }
   ],
   "source": [
    "#checking columns that got DtypeWarning while reading\n",
    "columns_warning = azdias.iloc[:, 18:20].columns.tolist()\n",
    "\n",
    "for c in columns_warning:\n",
    "    print(f\"{c}: {azdias[c].unique()}\")"
   ]
  },
  {
   "cell_type": "markdown",
   "id": "1bae987d",
   "metadata": {},
   "source": [
    "**Before handling dtypes, le'ts check the attributes datasets to understand how we can handle this**"
   ]
  },
  {
   "cell_type": "code",
   "execution_count": 8,
   "id": "8bd1c5fb",
   "metadata": {
    "ExecuteTime": {
     "end_time": "2022-12-05T08:32:06.404311Z",
     "start_time": "2022-12-05T08:32:06.311408Z"
    }
   },
   "outputs": [
    {
     "data": {
      "text/html": [
       "<div>\n",
       "<style scoped>\n",
       "    .dataframe tbody tr th:only-of-type {\n",
       "        vertical-align: middle;\n",
       "    }\n",
       "\n",
       "    .dataframe tbody tr th {\n",
       "        vertical-align: top;\n",
       "    }\n",
       "\n",
       "    .dataframe thead th {\n",
       "        text-align: right;\n",
       "    }\n",
       "</style>\n",
       "<table border=\"1\" class=\"dataframe\">\n",
       "  <thead>\n",
       "    <tr style=\"text-align: right;\">\n",
       "      <th></th>\n",
       "      <th>Attribute</th>\n",
       "      <th>Description</th>\n",
       "      <th>Value</th>\n",
       "      <th>Meaning</th>\n",
       "    </tr>\n",
       "  </thead>\n",
       "  <tbody>\n",
       "    <tr>\n",
       "      <th>0</th>\n",
       "      <td>AGER_TYP</td>\n",
       "      <td>best-ager typology</td>\n",
       "      <td>-1</td>\n",
       "      <td>unknown</td>\n",
       "    </tr>\n",
       "    <tr>\n",
       "      <th>1</th>\n",
       "      <td>NaN</td>\n",
       "      <td>NaN</td>\n",
       "      <td>0</td>\n",
       "      <td>no classification possible</td>\n",
       "    </tr>\n",
       "    <tr>\n",
       "      <th>2</th>\n",
       "      <td>NaN</td>\n",
       "      <td>NaN</td>\n",
       "      <td>1</td>\n",
       "      <td>passive elderly</td>\n",
       "    </tr>\n",
       "    <tr>\n",
       "      <th>3</th>\n",
       "      <td>NaN</td>\n",
       "      <td>NaN</td>\n",
       "      <td>2</td>\n",
       "      <td>cultural elderly</td>\n",
       "    </tr>\n",
       "    <tr>\n",
       "      <th>4</th>\n",
       "      <td>NaN</td>\n",
       "      <td>NaN</td>\n",
       "      <td>3</td>\n",
       "      <td>experience-driven elderly</td>\n",
       "    </tr>\n",
       "  </tbody>\n",
       "</table>\n",
       "</div>"
      ],
      "text/plain": [
       "  Attribute         Description Value                     Meaning\n",
       "0  AGER_TYP  best-ager typology    -1                     unknown\n",
       "1       NaN                 NaN     0  no classification possible\n",
       "2       NaN                 NaN     1             passive elderly\n",
       "3       NaN                 NaN     2            cultural elderly\n",
       "4       NaN                 NaN     3   experience-driven elderly"
      ]
     },
     "execution_count": 8,
     "metadata": {},
     "output_type": "execute_result"
    }
   ],
   "source": [
    "df_att.head()"
   ]
  },
  {
   "cell_type": "code",
   "execution_count": 9,
   "id": "de05e2d2",
   "metadata": {
    "ExecuteTime": {
     "end_time": "2022-12-05T08:32:06.531435Z",
     "start_time": "2022-12-05T08:32:06.406310Z"
    }
   },
   "outputs": [
    {
     "data": {
      "text/html": [
       "<div>\n",
       "<style scoped>\n",
       "    .dataframe tbody tr th:only-of-type {\n",
       "        vertical-align: middle;\n",
       "    }\n",
       "\n",
       "    .dataframe tbody tr th {\n",
       "        vertical-align: top;\n",
       "    }\n",
       "\n",
       "    .dataframe thead th {\n",
       "        text-align: right;\n",
       "    }\n",
       "</style>\n",
       "<table border=\"1\" class=\"dataframe\">\n",
       "  <thead>\n",
       "    <tr style=\"text-align: right;\">\n",
       "      <th></th>\n",
       "      <th>Information level</th>\n",
       "      <th>Attribute</th>\n",
       "      <th>Description</th>\n",
       "      <th>Additional notes</th>\n",
       "    </tr>\n",
       "  </thead>\n",
       "  <tbody>\n",
       "    <tr>\n",
       "      <th>0</th>\n",
       "      <td>NaN</td>\n",
       "      <td>AGER_TYP</td>\n",
       "      <td>best-ager typology</td>\n",
       "      <td>in cooperation with Kantar TNS; the informatio...</td>\n",
       "    </tr>\n",
       "    <tr>\n",
       "      <th>1</th>\n",
       "      <td>Person</td>\n",
       "      <td>ALTERSKATEGORIE_GROB</td>\n",
       "      <td>age through prename analysis</td>\n",
       "      <td>modelled on millions of first name-age-referen...</td>\n",
       "    </tr>\n",
       "    <tr>\n",
       "      <th>2</th>\n",
       "      <td>NaN</td>\n",
       "      <td>ANREDE_KZ</td>\n",
       "      <td>gender</td>\n",
       "      <td>NaN</td>\n",
       "    </tr>\n",
       "    <tr>\n",
       "      <th>3</th>\n",
       "      <td>NaN</td>\n",
       "      <td>CJT_GESAMTTYP</td>\n",
       "      <td>Customer-Journey-Typology relating to the pref...</td>\n",
       "      <td>relating to the preferred information, marketi...</td>\n",
       "    </tr>\n",
       "    <tr>\n",
       "      <th>4</th>\n",
       "      <td>NaN</td>\n",
       "      <td>FINANZ_MINIMALIST</td>\n",
       "      <td>financial typology: low financial interest</td>\n",
       "      <td>Gfk-Typology based on a representative househo...</td>\n",
       "    </tr>\n",
       "  </tbody>\n",
       "</table>\n",
       "</div>"
      ],
      "text/plain": [
       "  Information level             Attribute  \\\n",
       "0               NaN              AGER_TYP   \n",
       "1            Person  ALTERSKATEGORIE_GROB   \n",
       "2               NaN             ANREDE_KZ   \n",
       "3               NaN         CJT_GESAMTTYP   \n",
       "4               NaN     FINANZ_MINIMALIST   \n",
       "\n",
       "                                         Description  \\\n",
       "0                                 best-ager typology   \n",
       "1                      age through prename analysis    \n",
       "2                                             gender   \n",
       "3  Customer-Journey-Typology relating to the pref...   \n",
       "4         financial typology: low financial interest   \n",
       "\n",
       "                                    Additional notes  \n",
       "0  in cooperation with Kantar TNS; the informatio...  \n",
       "1  modelled on millions of first name-age-referen...  \n",
       "2                                                NaN  \n",
       "3  relating to the preferred information, marketi...  \n",
       "4  Gfk-Typology based on a representative househo...  "
      ]
     },
     "execution_count": 9,
     "metadata": {},
     "output_type": "execute_result"
    }
   ],
   "source": [
    "df_info.head()"
   ]
  },
  {
   "cell_type": "code",
   "execution_count": 10,
   "id": "1c1901ff",
   "metadata": {
    "ExecuteTime": {
     "end_time": "2022-12-05T08:32:06.781958Z",
     "start_time": "2022-12-05T08:32:06.533433Z"
    }
   },
   "outputs": [
    {
     "data": {
      "text/html": [
       "<div>\n",
       "<style scoped>\n",
       "    .dataframe tbody tr th:only-of-type {\n",
       "        vertical-align: middle;\n",
       "    }\n",
       "\n",
       "    .dataframe tbody tr th {\n",
       "        vertical-align: top;\n",
       "    }\n",
       "\n",
       "    .dataframe thead th {\n",
       "        text-align: right;\n",
       "    }\n",
       "</style>\n",
       "<table border=\"1\" class=\"dataframe\">\n",
       "  <thead>\n",
       "    <tr style=\"text-align: right;\">\n",
       "      <th></th>\n",
       "      <th>Attribute</th>\n",
       "      <th>Description</th>\n",
       "      <th>Value</th>\n",
       "      <th>Meaning</th>\n",
       "    </tr>\n",
       "  </thead>\n",
       "  <tbody>\n",
       "    <tr>\n",
       "      <th>0</th>\n",
       "      <td>AGER_TYP</td>\n",
       "      <td>best-ager typology</td>\n",
       "      <td>-1</td>\n",
       "      <td>unknown</td>\n",
       "    </tr>\n",
       "    <tr>\n",
       "      <th>1</th>\n",
       "      <td>AGER_TYP</td>\n",
       "      <td>best-ager typology</td>\n",
       "      <td>0</td>\n",
       "      <td>no classification possible</td>\n",
       "    </tr>\n",
       "    <tr>\n",
       "      <th>2</th>\n",
       "      <td>AGER_TYP</td>\n",
       "      <td>best-ager typology</td>\n",
       "      <td>1</td>\n",
       "      <td>passive elderly</td>\n",
       "    </tr>\n",
       "    <tr>\n",
       "      <th>3</th>\n",
       "      <td>AGER_TYP</td>\n",
       "      <td>best-ager typology</td>\n",
       "      <td>2</td>\n",
       "      <td>cultural elderly</td>\n",
       "    </tr>\n",
       "    <tr>\n",
       "      <th>4</th>\n",
       "      <td>AGER_TYP</td>\n",
       "      <td>best-ager typology</td>\n",
       "      <td>3</td>\n",
       "      <td>experience-driven elderly</td>\n",
       "    </tr>\n",
       "  </tbody>\n",
       "</table>\n",
       "</div>"
      ],
      "text/plain": [
       "  Attribute         Description Value                     Meaning\n",
       "0  AGER_TYP  best-ager typology    -1                     unknown\n",
       "1  AGER_TYP  best-ager typology     0  no classification possible\n",
       "2  AGER_TYP  best-ager typology     1             passive elderly\n",
       "3  AGER_TYP  best-ager typology     2            cultural elderly\n",
       "4  AGER_TYP  best-ager typology     3   experience-driven elderly"
      ]
     },
     "execution_count": 10,
     "metadata": {},
     "output_type": "execute_result"
    }
   ],
   "source": [
    "#Using foward fillna to fill the rows\n",
    "df_att.fillna(method=\"ffill\", inplace=True)\n",
    "df_att.head()"
   ]
  },
  {
   "cell_type": "code",
   "execution_count": 11,
   "id": "87674105",
   "metadata": {
    "ExecuteTime": {
     "end_time": "2022-12-05T08:32:06.957444Z",
     "start_time": "2022-12-05T08:32:06.783955Z"
    }
   },
   "outputs": [
    {
     "data": {
      "text/html": [
       "<div>\n",
       "<style scoped>\n",
       "    .dataframe tbody tr th:only-of-type {\n",
       "        vertical-align: middle;\n",
       "    }\n",
       "\n",
       "    .dataframe tbody tr th {\n",
       "        vertical-align: top;\n",
       "    }\n",
       "\n",
       "    .dataframe thead th {\n",
       "        text-align: right;\n",
       "    }\n",
       "</style>\n",
       "<table border=\"1\" class=\"dataframe\">\n",
       "  <thead>\n",
       "    <tr style=\"text-align: right;\">\n",
       "      <th></th>\n",
       "      <th>Information level</th>\n",
       "      <th>Attribute</th>\n",
       "      <th>Description</th>\n",
       "      <th>Additional notes</th>\n",
       "    </tr>\n",
       "  </thead>\n",
       "  <tbody>\n",
       "    <tr>\n",
       "      <th>0</th>\n",
       "      <td>NaN</td>\n",
       "      <td>AGER_TYP</td>\n",
       "      <td>best-ager typology</td>\n",
       "      <td>in cooperation with Kantar TNS; the informatio...</td>\n",
       "    </tr>\n",
       "    <tr>\n",
       "      <th>1</th>\n",
       "      <td>Person</td>\n",
       "      <td>ALTERSKATEGORIE_GROB</td>\n",
       "      <td>age through prename analysis</td>\n",
       "      <td>modelled on millions of first name-age-referen...</td>\n",
       "    </tr>\n",
       "    <tr>\n",
       "      <th>2</th>\n",
       "      <td>Person</td>\n",
       "      <td>ANREDE_KZ</td>\n",
       "      <td>gender</td>\n",
       "      <td>modelled on millions of first name-age-referen...</td>\n",
       "    </tr>\n",
       "    <tr>\n",
       "      <th>3</th>\n",
       "      <td>Person</td>\n",
       "      <td>CJT_GESAMTTYP</td>\n",
       "      <td>Customer-Journey-Typology relating to the pref...</td>\n",
       "      <td>relating to the preferred information, marketi...</td>\n",
       "    </tr>\n",
       "    <tr>\n",
       "      <th>4</th>\n",
       "      <td>Person</td>\n",
       "      <td>FINANZ_MINIMALIST</td>\n",
       "      <td>financial typology: low financial interest</td>\n",
       "      <td>Gfk-Typology based on a representative househo...</td>\n",
       "    </tr>\n",
       "  </tbody>\n",
       "</table>\n",
       "</div>"
      ],
      "text/plain": [
       "  Information level             Attribute  \\\n",
       "0               NaN              AGER_TYP   \n",
       "1            Person  ALTERSKATEGORIE_GROB   \n",
       "2            Person             ANREDE_KZ   \n",
       "3            Person         CJT_GESAMTTYP   \n",
       "4            Person     FINANZ_MINIMALIST   \n",
       "\n",
       "                                         Description  \\\n",
       "0                                 best-ager typology   \n",
       "1                      age through prename analysis    \n",
       "2                                             gender   \n",
       "3  Customer-Journey-Typology relating to the pref...   \n",
       "4         financial typology: low financial interest   \n",
       "\n",
       "                                    Additional notes  \n",
       "0  in cooperation with Kantar TNS; the informatio...  \n",
       "1  modelled on millions of first name-age-referen...  \n",
       "2  modelled on millions of first name-age-referen...  \n",
       "3  relating to the preferred information, marketi...  \n",
       "4  Gfk-Typology based on a representative househo...  "
      ]
     },
     "execution_count": 11,
     "metadata": {},
     "output_type": "execute_result"
    }
   ],
   "source": [
    "df_info.fillna(method=\"ffill\", inplace=True)\n",
    "df_info.head()"
   ]
  },
  {
   "cell_type": "code",
   "execution_count": 12,
   "id": "0cc0e98b",
   "metadata": {
    "ExecuteTime": {
     "end_time": "2022-12-05T08:32:07.129580Z",
     "start_time": "2022-12-05T08:32:06.959444Z"
    }
   },
   "outputs": [
    {
     "data": {
      "text/html": [
       "<div>\n",
       "<style scoped>\n",
       "    .dataframe tbody tr th:only-of-type {\n",
       "        vertical-align: middle;\n",
       "    }\n",
       "\n",
       "    .dataframe tbody tr th {\n",
       "        vertical-align: top;\n",
       "    }\n",
       "\n",
       "    .dataframe thead th {\n",
       "        text-align: right;\n",
       "    }\n",
       "</style>\n",
       "<table border=\"1\" class=\"dataframe\">\n",
       "  <thead>\n",
       "    <tr style=\"text-align: right;\">\n",
       "      <th></th>\n",
       "      <th>Information level</th>\n",
       "      <th>Attribute</th>\n",
       "      <th>Description</th>\n",
       "      <th>Additional notes</th>\n",
       "    </tr>\n",
       "  </thead>\n",
       "  <tbody>\n",
       "    <tr>\n",
       "      <th>0</th>\n",
       "      <td>Person</td>\n",
       "      <td>AGER_TYP</td>\n",
       "      <td>best-ager typology</td>\n",
       "      <td>in cooperation with Kantar TNS; the informatio...</td>\n",
       "    </tr>\n",
       "    <tr>\n",
       "      <th>1</th>\n",
       "      <td>Person</td>\n",
       "      <td>ALTERSKATEGORIE_GROB</td>\n",
       "      <td>age through prename analysis</td>\n",
       "      <td>modelled on millions of first name-age-referen...</td>\n",
       "    </tr>\n",
       "    <tr>\n",
       "      <th>2</th>\n",
       "      <td>Person</td>\n",
       "      <td>ANREDE_KZ</td>\n",
       "      <td>gender</td>\n",
       "      <td>modelled on millions of first name-age-referen...</td>\n",
       "    </tr>\n",
       "    <tr>\n",
       "      <th>3</th>\n",
       "      <td>Person</td>\n",
       "      <td>CJT_GESAMTTYP</td>\n",
       "      <td>Customer-Journey-Typology relating to the pref...</td>\n",
       "      <td>relating to the preferred information, marketi...</td>\n",
       "    </tr>\n",
       "    <tr>\n",
       "      <th>4</th>\n",
       "      <td>Person</td>\n",
       "      <td>FINANZ_MINIMALIST</td>\n",
       "      <td>financial typology: low financial interest</td>\n",
       "      <td>Gfk-Typology based on a representative househo...</td>\n",
       "    </tr>\n",
       "  </tbody>\n",
       "</table>\n",
       "</div>"
      ],
      "text/plain": [
       "  Information level             Attribute  \\\n",
       "0            Person              AGER_TYP   \n",
       "1            Person  ALTERSKATEGORIE_GROB   \n",
       "2            Person             ANREDE_KZ   \n",
       "3            Person         CJT_GESAMTTYP   \n",
       "4            Person     FINANZ_MINIMALIST   \n",
       "\n",
       "                                         Description  \\\n",
       "0                                 best-ager typology   \n",
       "1                      age through prename analysis    \n",
       "2                                             gender   \n",
       "3  Customer-Journey-Typology relating to the pref...   \n",
       "4         financial typology: low financial interest   \n",
       "\n",
       "                                    Additional notes  \n",
       "0  in cooperation with Kantar TNS; the informatio...  \n",
       "1  modelled on millions of first name-age-referen...  \n",
       "2  modelled on millions of first name-age-referen...  \n",
       "3  relating to the preferred information, marketi...  \n",
       "4  Gfk-Typology based on a representative househo...  "
      ]
     },
     "execution_count": 12,
     "metadata": {},
     "output_type": "execute_result"
    }
   ],
   "source": [
    "#we still have a NaN on the df_info, let's use back fill now\n",
    "df_info.fillna(method=\"bfill\", inplace=True)\n",
    "df_info.head()"
   ]
  },
  {
   "cell_type": "code",
   "execution_count": 13,
   "id": "09cdc0c4",
   "metadata": {
    "ExecuteTime": {
     "end_time": "2022-12-05T08:32:07.240325Z",
     "start_time": "2022-12-05T08:32:07.130566Z"
    }
   },
   "outputs": [
    {
     "data": {
      "text/plain": [
       "['CAMEO_DEUG_2015', 'CAMEO_INTL_2015']"
      ]
     },
     "execution_count": 13,
     "metadata": {},
     "output_type": "execute_result"
    }
   ],
   "source": [
    "#columns with dtype warnings\n",
    "columns_warning"
   ]
  },
  {
   "cell_type": "code",
   "execution_count": 14,
   "id": "3a0afa1c",
   "metadata": {
    "ExecuteTime": {
     "end_time": "2022-12-05T08:32:07.352264Z",
     "start_time": "2022-12-05T08:32:07.241324Z"
    }
   },
   "outputs": [
    {
     "data": {
      "text/html": [
       "<div>\n",
       "<style scoped>\n",
       "    .dataframe tbody tr th:only-of-type {\n",
       "        vertical-align: middle;\n",
       "    }\n",
       "\n",
       "    .dataframe tbody tr th {\n",
       "        vertical-align: top;\n",
       "    }\n",
       "\n",
       "    .dataframe thead th {\n",
       "        text-align: right;\n",
       "    }\n",
       "</style>\n",
       "<table border=\"1\" class=\"dataframe\">\n",
       "  <thead>\n",
       "    <tr style=\"text-align: right;\">\n",
       "      <th></th>\n",
       "      <th>Attribute</th>\n",
       "      <th>Description</th>\n",
       "      <th>Value</th>\n",
       "      <th>Meaning</th>\n",
       "    </tr>\n",
       "  </thead>\n",
       "  <tbody>\n",
       "    <tr>\n",
       "      <th>51</th>\n",
       "      <td>CAMEO_DEUG_2015</td>\n",
       "      <td>CAMEO classification 2015 - Uppergroup</td>\n",
       "      <td>-1</td>\n",
       "      <td>unknown</td>\n",
       "    </tr>\n",
       "    <tr>\n",
       "      <th>52</th>\n",
       "      <td>CAMEO_DEUG_2015</td>\n",
       "      <td>CAMEO classification 2015 - Uppergroup</td>\n",
       "      <td>1</td>\n",
       "      <td>upper class</td>\n",
       "    </tr>\n",
       "    <tr>\n",
       "      <th>53</th>\n",
       "      <td>CAMEO_DEUG_2015</td>\n",
       "      <td>CAMEO classification 2015 - Uppergroup</td>\n",
       "      <td>2</td>\n",
       "      <td>upper middleclass</td>\n",
       "    </tr>\n",
       "    <tr>\n",
       "      <th>54</th>\n",
       "      <td>CAMEO_DEUG_2015</td>\n",
       "      <td>CAMEO classification 2015 - Uppergroup</td>\n",
       "      <td>3</td>\n",
       "      <td>established middleclasse</td>\n",
       "    </tr>\n",
       "    <tr>\n",
       "      <th>55</th>\n",
       "      <td>CAMEO_DEUG_2015</td>\n",
       "      <td>CAMEO classification 2015 - Uppergroup</td>\n",
       "      <td>4</td>\n",
       "      <td>consumption-oriented middleclass</td>\n",
       "    </tr>\n",
       "    <tr>\n",
       "      <th>56</th>\n",
       "      <td>CAMEO_DEUG_2015</td>\n",
       "      <td>CAMEO classification 2015 - Uppergroup</td>\n",
       "      <td>5</td>\n",
       "      <td>active middleclass</td>\n",
       "    </tr>\n",
       "    <tr>\n",
       "      <th>57</th>\n",
       "      <td>CAMEO_DEUG_2015</td>\n",
       "      <td>CAMEO classification 2015 - Uppergroup</td>\n",
       "      <td>6</td>\n",
       "      <td>low-consumption middleclass</td>\n",
       "    </tr>\n",
       "    <tr>\n",
       "      <th>58</th>\n",
       "      <td>CAMEO_DEUG_2015</td>\n",
       "      <td>CAMEO classification 2015 - Uppergroup</td>\n",
       "      <td>7</td>\n",
       "      <td>lower middleclass</td>\n",
       "    </tr>\n",
       "    <tr>\n",
       "      <th>59</th>\n",
       "      <td>CAMEO_DEUG_2015</td>\n",
       "      <td>CAMEO classification 2015 - Uppergroup</td>\n",
       "      <td>8</td>\n",
       "      <td>working class</td>\n",
       "    </tr>\n",
       "    <tr>\n",
       "      <th>60</th>\n",
       "      <td>CAMEO_DEUG_2015</td>\n",
       "      <td>CAMEO classification 2015 - Uppergroup</td>\n",
       "      <td>9</td>\n",
       "      <td>urban working class</td>\n",
       "    </tr>\n",
       "  </tbody>\n",
       "</table>\n",
       "</div>"
      ],
      "text/plain": [
       "          Attribute                             Description Value  \\\n",
       "51  CAMEO_DEUG_2015  CAMEO classification 2015 - Uppergroup    -1   \n",
       "52  CAMEO_DEUG_2015  CAMEO classification 2015 - Uppergroup     1   \n",
       "53  CAMEO_DEUG_2015  CAMEO classification 2015 - Uppergroup     2   \n",
       "54  CAMEO_DEUG_2015  CAMEO classification 2015 - Uppergroup     3   \n",
       "55  CAMEO_DEUG_2015  CAMEO classification 2015 - Uppergroup     4   \n",
       "56  CAMEO_DEUG_2015  CAMEO classification 2015 - Uppergroup     5   \n",
       "57  CAMEO_DEUG_2015  CAMEO classification 2015 - Uppergroup     6   \n",
       "58  CAMEO_DEUG_2015  CAMEO classification 2015 - Uppergroup     7   \n",
       "59  CAMEO_DEUG_2015  CAMEO classification 2015 - Uppergroup     8   \n",
       "60  CAMEO_DEUG_2015  CAMEO classification 2015 - Uppergroup     9   \n",
       "\n",
       "                              Meaning  \n",
       "51                            unknown  \n",
       "52                        upper class  \n",
       "53                  upper middleclass  \n",
       "54           established middleclasse  \n",
       "55  consumption-oriented middleclass   \n",
       "56                active middleclass   \n",
       "57        low-consumption middleclass  \n",
       "58                  lower middleclass  \n",
       "59                      working class  \n",
       "60                urban working class  "
      ]
     },
     "execution_count": 14,
     "metadata": {},
     "output_type": "execute_result"
    }
   ],
   "source": [
    "#checking description for the columns with dtype warnings\n",
    "df_att[df_att['Attribute'] == 'CAMEO_DEUG_2015']"
   ]
  },
  {
   "cell_type": "markdown",
   "id": "dcf4aae7",
   "metadata": {},
   "source": [
    "We can see that we can use -1 for unkown values"
   ]
  },
  {
   "cell_type": "code",
   "execution_count": 15,
   "id": "85bba8f5",
   "metadata": {
    "ExecuteTime": {
     "end_time": "2022-12-05T08:32:07.478366Z",
     "start_time": "2022-12-05T08:32:07.355262Z"
    }
   },
   "outputs": [
    {
     "data": {
      "text/html": [
       "<div>\n",
       "<style scoped>\n",
       "    .dataframe tbody tr th:only-of-type {\n",
       "        vertical-align: middle;\n",
       "    }\n",
       "\n",
       "    .dataframe tbody tr th {\n",
       "        vertical-align: top;\n",
       "    }\n",
       "\n",
       "    .dataframe thead th {\n",
       "        text-align: right;\n",
       "    }\n",
       "</style>\n",
       "<table border=\"1\" class=\"dataframe\">\n",
       "  <thead>\n",
       "    <tr style=\"text-align: right;\">\n",
       "      <th></th>\n",
       "      <th>Attribute</th>\n",
       "      <th>Description</th>\n",
       "      <th>Value</th>\n",
       "      <th>Meaning</th>\n",
       "    </tr>\n",
       "  </thead>\n",
       "  <tbody>\n",
       "  </tbody>\n",
       "</table>\n",
       "</div>"
      ],
      "text/plain": [
       "Empty DataFrame\n",
       "Columns: [Attribute, Description, Value, Meaning]\n",
       "Index: []"
      ]
     },
     "execution_count": 15,
     "metadata": {},
     "output_type": "execute_result"
    }
   ],
   "source": [
    "df_att[df_att['Attribute'] == 'CAMEO_INTL_2015']"
   ]
  },
  {
   "cell_type": "code",
   "execution_count": 16,
   "id": "6cf4392a",
   "metadata": {
    "ExecuteTime": {
     "end_time": "2022-12-05T08:32:07.574654Z",
     "start_time": "2022-12-05T08:32:07.479354Z"
    }
   },
   "outputs": [
    {
     "data": {
      "text/html": [
       "<div>\n",
       "<style scoped>\n",
       "    .dataframe tbody tr th:only-of-type {\n",
       "        vertical-align: middle;\n",
       "    }\n",
       "\n",
       "    .dataframe tbody tr th {\n",
       "        vertical-align: top;\n",
       "    }\n",
       "\n",
       "    .dataframe thead th {\n",
       "        text-align: right;\n",
       "    }\n",
       "</style>\n",
       "<table border=\"1\" class=\"dataframe\">\n",
       "  <thead>\n",
       "    <tr style=\"text-align: right;\">\n",
       "      <th></th>\n",
       "      <th>Information level</th>\n",
       "      <th>Attribute</th>\n",
       "      <th>Description</th>\n",
       "      <th>Additional notes</th>\n",
       "    </tr>\n",
       "  </thead>\n",
       "  <tbody>\n",
       "  </tbody>\n",
       "</table>\n",
       "</div>"
      ],
      "text/plain": [
       "Empty DataFrame\n",
       "Columns: [Information level, Attribute, Description, Additional notes]\n",
       "Index: []"
      ]
     },
     "execution_count": 16,
     "metadata": {},
     "output_type": "execute_result"
    }
   ],
   "source": [
    "df_info[df_info['Attribute'] == 'CAMEO_INTL_2015']"
   ]
  },
  {
   "cell_type": "code",
   "execution_count": 17,
   "id": "8fc1db45",
   "metadata": {
    "ExecuteTime": {
     "end_time": "2022-12-05T08:32:07.669350Z",
     "start_time": "2022-12-05T08:32:07.576651Z"
    },
    "scrolled": true
   },
   "outputs": [
    {
     "data": {
      "text/html": [
       "<div>\n",
       "<style scoped>\n",
       "    .dataframe tbody tr th:only-of-type {\n",
       "        vertical-align: middle;\n",
       "    }\n",
       "\n",
       "    .dataframe tbody tr th {\n",
       "        vertical-align: top;\n",
       "    }\n",
       "\n",
       "    .dataframe thead th {\n",
       "        text-align: right;\n",
       "    }\n",
       "</style>\n",
       "<table border=\"1\" class=\"dataframe\">\n",
       "  <thead>\n",
       "    <tr style=\"text-align: right;\">\n",
       "      <th></th>\n",
       "      <th>Attribute</th>\n",
       "      <th>Description</th>\n",
       "      <th>Value</th>\n",
       "      <th>Meaning</th>\n",
       "    </tr>\n",
       "  </thead>\n",
       "  <tbody>\n",
       "    <tr>\n",
       "      <th>105</th>\n",
       "      <td>CAMEO_DEUINTL_2015</td>\n",
       "      <td>CAMEO classification 2015 - international typo...</td>\n",
       "      <td>-1</td>\n",
       "      <td>unknown</td>\n",
       "    </tr>\n",
       "    <tr>\n",
       "      <th>106</th>\n",
       "      <td>CAMEO_DEUINTL_2015</td>\n",
       "      <td>(each German CAMEO code belongs to one interna...</td>\n",
       "      <td>11</td>\n",
       "      <td>Wealthy Households-Pre-Family Couples &amp; Singles</td>\n",
       "    </tr>\n",
       "    <tr>\n",
       "      <th>107</th>\n",
       "      <td>CAMEO_DEUINTL_2015</td>\n",
       "      <td>(each German CAMEO code belongs to one interna...</td>\n",
       "      <td>12</td>\n",
       "      <td>Wealthy Households-Young Couples With Children</td>\n",
       "    </tr>\n",
       "    <tr>\n",
       "      <th>108</th>\n",
       "      <td>CAMEO_DEUINTL_2015</td>\n",
       "      <td>(each German CAMEO code belongs to one interna...</td>\n",
       "      <td>13</td>\n",
       "      <td>Wealthy Households-Families With School Age Ch...</td>\n",
       "    </tr>\n",
       "    <tr>\n",
       "      <th>109</th>\n",
       "      <td>CAMEO_DEUINTL_2015</td>\n",
       "      <td>(each German CAMEO code belongs to one interna...</td>\n",
       "      <td>14</td>\n",
       "      <td>Wealthy Households-Older Families &amp;  Mature Co...</td>\n",
       "    </tr>\n",
       "    <tr>\n",
       "      <th>110</th>\n",
       "      <td>CAMEO_DEUINTL_2015</td>\n",
       "      <td>(each German CAMEO code belongs to one interna...</td>\n",
       "      <td>15</td>\n",
       "      <td>Wealthy Households-Elders In Retirement</td>\n",
       "    </tr>\n",
       "    <tr>\n",
       "      <th>111</th>\n",
       "      <td>CAMEO_DEUINTL_2015</td>\n",
       "      <td>(each German CAMEO code belongs to one interna...</td>\n",
       "      <td>21</td>\n",
       "      <td>Prosperous Households-Pre-Family Couples &amp; Sin...</td>\n",
       "    </tr>\n",
       "    <tr>\n",
       "      <th>112</th>\n",
       "      <td>CAMEO_DEUINTL_2015</td>\n",
       "      <td>(each German CAMEO code belongs to one interna...</td>\n",
       "      <td>22</td>\n",
       "      <td>Prosperous Households-Young Couples With Children</td>\n",
       "    </tr>\n",
       "    <tr>\n",
       "      <th>113</th>\n",
       "      <td>CAMEO_DEUINTL_2015</td>\n",
       "      <td>(each German CAMEO code belongs to one interna...</td>\n",
       "      <td>23</td>\n",
       "      <td>Prosperous Households-Families With School Age...</td>\n",
       "    </tr>\n",
       "    <tr>\n",
       "      <th>114</th>\n",
       "      <td>CAMEO_DEUINTL_2015</td>\n",
       "      <td>(each German CAMEO code belongs to one interna...</td>\n",
       "      <td>24</td>\n",
       "      <td>Prosperous Households-Older Families &amp; Mature ...</td>\n",
       "    </tr>\n",
       "    <tr>\n",
       "      <th>115</th>\n",
       "      <td>CAMEO_DEUINTL_2015</td>\n",
       "      <td>(each German CAMEO code belongs to one interna...</td>\n",
       "      <td>25</td>\n",
       "      <td>Prosperous Households-Elders In Retirement</td>\n",
       "    </tr>\n",
       "    <tr>\n",
       "      <th>116</th>\n",
       "      <td>CAMEO_DEUINTL_2015</td>\n",
       "      <td>(each German CAMEO code belongs to one interna...</td>\n",
       "      <td>31</td>\n",
       "      <td>Comfortable Households-Pre-Family Couples &amp; Si...</td>\n",
       "    </tr>\n",
       "    <tr>\n",
       "      <th>117</th>\n",
       "      <td>CAMEO_DEUINTL_2015</td>\n",
       "      <td>(each German CAMEO code belongs to one interna...</td>\n",
       "      <td>32</td>\n",
       "      <td>Comfortable Households-Young Couples With Chil...</td>\n",
       "    </tr>\n",
       "    <tr>\n",
       "      <th>118</th>\n",
       "      <td>CAMEO_DEUINTL_2015</td>\n",
       "      <td>(each German CAMEO code belongs to one interna...</td>\n",
       "      <td>33</td>\n",
       "      <td>Comfortable Households-Families With School Ag...</td>\n",
       "    </tr>\n",
       "    <tr>\n",
       "      <th>119</th>\n",
       "      <td>CAMEO_DEUINTL_2015</td>\n",
       "      <td>(each German CAMEO code belongs to one interna...</td>\n",
       "      <td>34</td>\n",
       "      <td>Comfortable Households-Older Families &amp; Mature...</td>\n",
       "    </tr>\n",
       "    <tr>\n",
       "      <th>120</th>\n",
       "      <td>CAMEO_DEUINTL_2015</td>\n",
       "      <td>(each German CAMEO code belongs to one interna...</td>\n",
       "      <td>35</td>\n",
       "      <td>Comfortable Households-Elders In Retirement</td>\n",
       "    </tr>\n",
       "    <tr>\n",
       "      <th>121</th>\n",
       "      <td>CAMEO_DEUINTL_2015</td>\n",
       "      <td>(each German CAMEO code belongs to one interna...</td>\n",
       "      <td>41</td>\n",
       "      <td>Less Affluent Households-Pre-Family Couples &amp; ...</td>\n",
       "    </tr>\n",
       "    <tr>\n",
       "      <th>122</th>\n",
       "      <td>CAMEO_DEUINTL_2015</td>\n",
       "      <td>(each German CAMEO code belongs to one interna...</td>\n",
       "      <td>42</td>\n",
       "      <td>Less Affluent Households-Young Couples With Ch...</td>\n",
       "    </tr>\n",
       "    <tr>\n",
       "      <th>123</th>\n",
       "      <td>CAMEO_DEUINTL_2015</td>\n",
       "      <td>(each German CAMEO code belongs to one interna...</td>\n",
       "      <td>43</td>\n",
       "      <td>Less Affluent Households-Families With School ...</td>\n",
       "    </tr>\n",
       "    <tr>\n",
       "      <th>124</th>\n",
       "      <td>CAMEO_DEUINTL_2015</td>\n",
       "      <td>(each German CAMEO code belongs to one interna...</td>\n",
       "      <td>44</td>\n",
       "      <td>Less Affluent Households-Older Families &amp; Matu...</td>\n",
       "    </tr>\n",
       "    <tr>\n",
       "      <th>125</th>\n",
       "      <td>CAMEO_DEUINTL_2015</td>\n",
       "      <td>(each German CAMEO code belongs to one interna...</td>\n",
       "      <td>45</td>\n",
       "      <td>Less Affluent Households-Elders In Retirement</td>\n",
       "    </tr>\n",
       "    <tr>\n",
       "      <th>126</th>\n",
       "      <td>CAMEO_DEUINTL_2015</td>\n",
       "      <td>(each German CAMEO code belongs to one interna...</td>\n",
       "      <td>51</td>\n",
       "      <td>Poorer Households-Pre-Family Couples &amp; Singles</td>\n",
       "    </tr>\n",
       "    <tr>\n",
       "      <th>127</th>\n",
       "      <td>CAMEO_DEUINTL_2015</td>\n",
       "      <td>(each German CAMEO code belongs to one interna...</td>\n",
       "      <td>52</td>\n",
       "      <td>Poorer Households-Young Couples With Children</td>\n",
       "    </tr>\n",
       "    <tr>\n",
       "      <th>128</th>\n",
       "      <td>CAMEO_DEUINTL_2015</td>\n",
       "      <td>(each German CAMEO code belongs to one interna...</td>\n",
       "      <td>53</td>\n",
       "      <td>Poorer Households-Families With School Age Chi...</td>\n",
       "    </tr>\n",
       "    <tr>\n",
       "      <th>129</th>\n",
       "      <td>CAMEO_DEUINTL_2015</td>\n",
       "      <td>(each German CAMEO code belongs to one interna...</td>\n",
       "      <td>54</td>\n",
       "      <td>Poorer Households-Older Families &amp; Mature Couples</td>\n",
       "    </tr>\n",
       "    <tr>\n",
       "      <th>130</th>\n",
       "      <td>CAMEO_DEUINTL_2015</td>\n",
       "      <td>(each German CAMEO code belongs to one interna...</td>\n",
       "      <td>55</td>\n",
       "      <td>Poorer Households-Elders In Retirement</td>\n",
       "    </tr>\n",
       "  </tbody>\n",
       "</table>\n",
       "</div>"
      ],
      "text/plain": [
       "              Attribute                                        Description  \\\n",
       "105  CAMEO_DEUINTL_2015  CAMEO classification 2015 - international typo...   \n",
       "106  CAMEO_DEUINTL_2015  (each German CAMEO code belongs to one interna...   \n",
       "107  CAMEO_DEUINTL_2015  (each German CAMEO code belongs to one interna...   \n",
       "108  CAMEO_DEUINTL_2015  (each German CAMEO code belongs to one interna...   \n",
       "109  CAMEO_DEUINTL_2015  (each German CAMEO code belongs to one interna...   \n",
       "110  CAMEO_DEUINTL_2015  (each German CAMEO code belongs to one interna...   \n",
       "111  CAMEO_DEUINTL_2015  (each German CAMEO code belongs to one interna...   \n",
       "112  CAMEO_DEUINTL_2015  (each German CAMEO code belongs to one interna...   \n",
       "113  CAMEO_DEUINTL_2015  (each German CAMEO code belongs to one interna...   \n",
       "114  CAMEO_DEUINTL_2015  (each German CAMEO code belongs to one interna...   \n",
       "115  CAMEO_DEUINTL_2015  (each German CAMEO code belongs to one interna...   \n",
       "116  CAMEO_DEUINTL_2015  (each German CAMEO code belongs to one interna...   \n",
       "117  CAMEO_DEUINTL_2015  (each German CAMEO code belongs to one interna...   \n",
       "118  CAMEO_DEUINTL_2015  (each German CAMEO code belongs to one interna...   \n",
       "119  CAMEO_DEUINTL_2015  (each German CAMEO code belongs to one interna...   \n",
       "120  CAMEO_DEUINTL_2015  (each German CAMEO code belongs to one interna...   \n",
       "121  CAMEO_DEUINTL_2015  (each German CAMEO code belongs to one interna...   \n",
       "122  CAMEO_DEUINTL_2015  (each German CAMEO code belongs to one interna...   \n",
       "123  CAMEO_DEUINTL_2015  (each German CAMEO code belongs to one interna...   \n",
       "124  CAMEO_DEUINTL_2015  (each German CAMEO code belongs to one interna...   \n",
       "125  CAMEO_DEUINTL_2015  (each German CAMEO code belongs to one interna...   \n",
       "126  CAMEO_DEUINTL_2015  (each German CAMEO code belongs to one interna...   \n",
       "127  CAMEO_DEUINTL_2015  (each German CAMEO code belongs to one interna...   \n",
       "128  CAMEO_DEUINTL_2015  (each German CAMEO code belongs to one interna...   \n",
       "129  CAMEO_DEUINTL_2015  (each German CAMEO code belongs to one interna...   \n",
       "130  CAMEO_DEUINTL_2015  (each German CAMEO code belongs to one interna...   \n",
       "\n",
       "    Value                                            Meaning  \n",
       "105    -1                                            unknown  \n",
       "106    11    Wealthy Households-Pre-Family Couples & Singles  \n",
       "107    12     Wealthy Households-Young Couples With Children  \n",
       "108    13  Wealthy Households-Families With School Age Ch...  \n",
       "109    14  Wealthy Households-Older Families &  Mature Co...  \n",
       "110    15            Wealthy Households-Elders In Retirement  \n",
       "111    21  Prosperous Households-Pre-Family Couples & Sin...  \n",
       "112    22  Prosperous Households-Young Couples With Children  \n",
       "113    23  Prosperous Households-Families With School Age...  \n",
       "114    24  Prosperous Households-Older Families & Mature ...  \n",
       "115    25         Prosperous Households-Elders In Retirement  \n",
       "116    31  Comfortable Households-Pre-Family Couples & Si...  \n",
       "117    32  Comfortable Households-Young Couples With Chil...  \n",
       "118    33  Comfortable Households-Families With School Ag...  \n",
       "119    34  Comfortable Households-Older Families & Mature...  \n",
       "120    35        Comfortable Households-Elders In Retirement  \n",
       "121    41  Less Affluent Households-Pre-Family Couples & ...  \n",
       "122    42  Less Affluent Households-Young Couples With Ch...  \n",
       "123    43  Less Affluent Households-Families With School ...  \n",
       "124    44  Less Affluent Households-Older Families & Matu...  \n",
       "125    45      Less Affluent Households-Elders In Retirement  \n",
       "126    51     Poorer Households-Pre-Family Couples & Singles  \n",
       "127    52      Poorer Households-Young Couples With Children  \n",
       "128    53  Poorer Households-Families With School Age Chi...  \n",
       "129    54  Poorer Households-Older Families & Mature Couples  \n",
       "130    55             Poorer Households-Elders In Retirement  "
      ]
     },
     "execution_count": 17,
     "metadata": {},
     "output_type": "execute_result"
    }
   ],
   "source": [
    "#No column matched \"CAMEO_INTL_2015\" found on the demographics, let's see if it has a different name on the description\n",
    "df_att[df_att['Attribute'].str.contains(\"INTL\")]"
   ]
  },
  {
   "cell_type": "code",
   "execution_count": 18,
   "id": "d63421fd",
   "metadata": {
    "ExecuteTime": {
     "end_time": "2022-12-05T08:32:07.779049Z",
     "start_time": "2022-12-05T08:32:07.670328Z"
    }
   },
   "outputs": [
    {
     "data": {
      "text/plain": [
       "['CAMEO_DEUG_2015', 'CAMEO_INTL_2015']"
      ]
     },
     "execution_count": 18,
     "metadata": {},
     "output_type": "execute_result"
    }
   ],
   "source": [
    "columns_warning"
   ]
  },
  {
   "cell_type": "code",
   "execution_count": 19,
   "id": "8ee3ffb0",
   "metadata": {
    "ExecuteTime": {
     "end_time": "2022-12-05T08:32:08.177480Z",
     "start_time": "2022-12-05T08:32:07.780037Z"
    }
   },
   "outputs": [],
   "source": [
    "#replacing X in the \"CAMEO_DEUG_2015\" column\n",
    "azdias['CAMEO_DEUG_2015'] = azdias['CAMEO_DEUG_2015'].replace('X', -1).astype(float)\n",
    "customers['CAMEO_DEUG_2015'] = customers['CAMEO_DEUG_2015'].replace('X', -1).astype(float) \n",
    "\n",
    "#replacing XX in the \"CAMEO_DEUG_2015\" column\n",
    "azdias['CAMEO_INTL_2015'] = azdias['CAMEO_INTL_2015'].replace('XX', -1).astype(float)\n",
    "customers['CAMEO_INTL_2015'] = customers['CAMEO_INTL_2015'].replace('XX', -1).astype(float) "
   ]
  },
  {
   "cell_type": "markdown",
   "id": "2911d8c5",
   "metadata": {},
   "source": [
    "## 2.2 Chaning NaN for unknown"
   ]
  },
  {
   "cell_type": "code",
   "execution_count": 20,
   "id": "9567e40a",
   "metadata": {
    "ExecuteTime": {
     "end_time": "2022-12-05T08:32:10.453754Z",
     "start_time": "2022-12-05T08:32:08.178435Z"
    }
   },
   "outputs": [],
   "source": [
    "azdias = unknown_replace_nans(azdias, df_att)\n",
    "customers = unknown_replace_nans(customers, df_att)"
   ]
  },
  {
   "cell_type": "markdown",
   "id": "2f1680fb",
   "metadata": {},
   "source": [
    "## 2.3 Handling Missing values"
   ]
  },
  {
   "cell_type": "code",
   "execution_count": 21,
   "id": "fb1022b3",
   "metadata": {
    "ExecuteTime": {
     "end_time": "2022-12-05T08:32:11.357053Z",
     "start_time": "2022-12-05T08:32:10.455338Z"
    }
   },
   "outputs": [
    {
     "data": {
      "text/plain": [
       "['ALTER_KIND4',\n",
       " 'ALTER_KIND3',\n",
       " 'ALTER_KIND2',\n",
       " 'ALTER_KIND1',\n",
       " 'EXTSEL992',\n",
       " 'KK_KUNDENTYP']"
      ]
     },
     "execution_count": 21,
     "metadata": {},
     "output_type": "execute_result"
    }
   ],
   "source": [
    "#checking missing values with 40%+ from azdias\n",
    "missing_azdias = azdias.isnull().sum() / azdias.shape[0]\n",
    "missing_azdias = missing_azdias[missing_azdias > .4].sort_values(ascending=False).index.tolist()\n",
    "missing_azdias"
   ]
  },
  {
   "cell_type": "code",
   "execution_count": 22,
   "id": "131b42ea",
   "metadata": {
    "ExecuteTime": {
     "end_time": "2022-12-05T08:32:13.351305Z",
     "start_time": "2022-12-05T08:32:11.359023Z"
    }
   },
   "outputs": [],
   "source": [
    "#Let's drop these 40%+ columns\n",
    "azdias = azdias.drop(columns=missing_azdias)"
   ]
  },
  {
   "cell_type": "code",
   "execution_count": 23,
   "id": "a5d757e9",
   "metadata": {
    "ExecuteTime": {
     "end_time": "2022-12-05T08:32:13.526880Z",
     "start_time": "2022-12-05T08:32:13.354305Z"
    }
   },
   "outputs": [
    {
     "data": {
      "text/plain": [
       "['ALTER_KIND4',\n",
       " 'ALTER_KIND3',\n",
       " 'ALTER_KIND2',\n",
       " 'ALTER_KIND1',\n",
       " 'KK_KUNDENTYP',\n",
       " 'EXTSEL992']"
      ]
     },
     "execution_count": 23,
     "metadata": {},
     "output_type": "execute_result"
    }
   ],
   "source": [
    "#checking missing values with 40%+ from customers\n",
    "missing_customers = customers.isnull().sum() / customers.shape[0]\n",
    "missing_customers = missing_customers[missing_customers > .4].sort_values(ascending=False).index.tolist()\n",
    "missing_customers"
   ]
  },
  {
   "cell_type": "code",
   "execution_count": 24,
   "id": "781d944e",
   "metadata": {
    "ExecuteTime": {
     "end_time": "2022-12-05T08:32:13.968415Z",
     "start_time": "2022-12-05T08:32:13.528864Z"
    }
   },
   "outputs": [],
   "source": [
    "#Let's drop these 40%+ columns\n",
    "customers = customers.drop(columns=missing_customers)"
   ]
  },
  {
   "cell_type": "code",
   "execution_count": 25,
   "id": "a70a5ff7",
   "metadata": {
    "ExecuteTime": {
     "end_time": "2022-12-05T08:32:14.651714Z",
     "start_time": "2022-12-05T08:32:13.969413Z"
    },
    "scrolled": true
   },
   "outputs": [
    {
     "data": {
      "text/plain": [
       "ALTERSKATEGORIE_FEIN           0.295041\n",
       "D19_LOTTO                      0.288495\n",
       "D19_VERSI_ONLINE_QUOTE_12      0.288495\n",
       "D19_VERSAND_ONLINE_QUOTE_12    0.288495\n",
       "D19_TELKO_ONLINE_QUOTE_12      0.288495\n",
       "D19_SOZIALES                   0.288495\n",
       "D19_BANKEN_ONLINE_QUOTE_12     0.288495\n",
       "D19_GESAMT_ONLINE_QUOTE_12     0.288495\n",
       "D19_KONSUMTYP                  0.288495\n",
       "D19_LETZTER_KAUF_BRANCHE       0.288495\n",
       "MOBI_REGIO                     0.149597\n",
       "VHN                            0.135989\n",
       "PLZ8_BAUMAX                    0.130736\n",
       "HH_DELTA_FLAG                  0.120735\n",
       "KBA13_ANTG2                    0.118714\n",
       "KBA13_KMH_210                  0.118714\n",
       "KBA13_HHZ                      0.118714\n",
       "KBA13_GBZ                      0.118714\n",
       "KBA13_CCM_1401_2500            0.118714\n",
       "KBA13_ANZAHL_PKW               0.118714\n",
       "KBA13_ANTG4                    0.118714\n",
       "KBA13_ANTG3                    0.118714\n",
       "KBA13_BAUMAX                   0.118714\n",
       "KBA13_ANTG1                    0.118714\n",
       "CAMEO_DEU_2015                 0.111060\n",
       "CAMEO_INTL_2015                0.111060\n",
       "UMFELD_ALT                     0.109721\n",
       "UMFELD_JUNG                    0.109721\n",
       "GEMEINDETYP                    0.109147\n",
       "STRUKTURTYP                    0.109147\n",
       "VERDICHTUNGSRAUM               0.109147\n",
       "ARBEIT                         0.109082\n",
       "ANZ_HH_TITEL                   0.108848\n",
       "GEBAEUDETYP_RASTER             0.104525\n",
       "FIRMENDICHTE                   0.104525\n",
       "KONSUMZELLE                    0.104525\n",
       "EINGEFUEGT_AM                  0.104517\n",
       "DSL_FLAG                       0.104517\n",
       "ANZ_STATISTISCHE_HAUSHALTE     0.104517\n",
       "ANZ_HAUSHALTE_AKTIV            0.104517\n",
       "MIN_GEBAEUDEJAHR               0.104517\n",
       "MOBI_RASTER                    0.104517\n",
       "dtype: float64"
      ]
     },
     "execution_count": 25,
     "metadata": {},
     "output_type": "execute_result"
    }
   ],
   "source": [
    "missing_azdias = azdias.isnull().sum() / azdias.shape[0]\n",
    "missing_azdias[missing_azdias > .1].sort_values(ascending=False)"
   ]
  },
  {
   "cell_type": "code",
   "execution_count": 26,
   "id": "b36aafb9",
   "metadata": {
    "ExecuteTime": {
     "end_time": "2022-12-05T08:32:14.840522Z",
     "start_time": "2022-12-05T08:32:14.652714Z"
    },
    "scrolled": true
   },
   "outputs": [
    {
     "data": {
      "text/plain": [
       "MOBI_REGIO                     0.292092\n",
       "VHN                            0.283117\n",
       "HH_DELTA_FLAG                  0.280415\n",
       "PLZ8_BAUMAX                    0.275312\n",
       "ANZ_HH_TITEL                   0.271899\n",
       "ALTERSKATEGORIE_FEIN           0.270501\n",
       "KBA13_BAUMAX                   0.267574\n",
       "KBA13_ANZAHL_PKW               0.267574\n",
       "KBA13_ANTG4                    0.267574\n",
       "KBA13_ANTG3                    0.267574\n",
       "KBA13_ANTG2                    0.267574\n",
       "KBA13_HHZ                      0.267574\n",
       "KBA13_KMH_210                  0.267574\n",
       "KBA13_GBZ                      0.267574\n",
       "KBA13_ANTG1                    0.267574\n",
       "KBA13_CCM_1401_2500            0.267574\n",
       "VERDICHTUNGSRAUM               0.263373\n",
       "ARBEIT                         0.263373\n",
       "GEMEINDETYP                    0.263373\n",
       "STRUKTURTYP                    0.263373\n",
       "UMFELD_ALT                     0.263227\n",
       "UMFELD_JUNG                    0.263227\n",
       "CAMEO_INTL_2015                0.263123\n",
       "CAMEO_DEU_2015                 0.263123\n",
       "KONSUMZELLE                    0.260509\n",
       "DSL_FLAG                       0.260509\n",
       "EINGEFUEGT_AM                  0.260509\n",
       "MIN_GEBAEUDEJAHR               0.260509\n",
       "FIRMENDICHTE                   0.260509\n",
       "MOBI_RASTER                    0.260509\n",
       "ANZ_STATISTISCHE_HAUSHALTE     0.260509\n",
       "ANZ_HAUSHALTE_AKTIV            0.260509\n",
       "GEBAEUDETYP_RASTER             0.260509\n",
       "VK_DHT4A                       0.249781\n",
       "VK_DISTANZ                     0.249781\n",
       "VK_ZG11                        0.249781\n",
       "D19_LETZTER_KAUF_BRANCHE       0.248873\n",
       "D19_BANKEN_ONLINE_QUOTE_12     0.248873\n",
       "D19_VERSI_ONLINE_QUOTE_12      0.248873\n",
       "D19_VERSAND_ONLINE_QUOTE_12    0.248873\n",
       "D19_TELKO_ONLINE_QUOTE_12      0.248873\n",
       "D19_SOZIALES                   0.248873\n",
       "D19_LOTTO                      0.248873\n",
       "D19_KONSUMTYP                  0.248873\n",
       "D19_GESAMT_ONLINE_QUOTE_12     0.248873\n",
       "KONSUMNAEHE                    0.243415\n",
       "ANZ_KINDER                     0.243128\n",
       "ANZ_PERSONEN                   0.243128\n",
       "ANZ_TITEL                      0.243128\n",
       "VHA                            0.243128\n",
       "ALTER_HH                       0.243128\n",
       "UNGLEICHENN_FLAG               0.243128\n",
       "EINGEZOGENAM_HH_JAHR           0.243128\n",
       "SOHO_KZ                        0.243128\n",
       "AKT_DAT_KL                     0.243128\n",
       "RT_UEBERGROESSE                0.230585\n",
       "dtype: float64"
      ]
     },
     "execution_count": 26,
     "metadata": {},
     "output_type": "execute_result"
    }
   ],
   "source": [
    "missing_customers = customers.isnull().sum() / customers.shape[0]\n",
    "missing_customers[missing_customers > .1].sort_values(ascending=False)"
   ]
  },
  {
   "cell_type": "markdown",
   "id": "b8da008b",
   "metadata": {},
   "source": [
    "### 2.3.1 Handling columns with 40%- missing values"
   ]
  },
  {
   "cell_type": "code",
   "execution_count": 27,
   "id": "987b8d0d",
   "metadata": {
    "ExecuteTime": {
     "end_time": "2022-12-05T08:32:14.967411Z",
     "start_time": "2022-12-05T08:32:14.842520Z"
    }
   },
   "outputs": [],
   "source": [
    "#Let's input 0 where it means unknown\n",
    "cols_input_zero = ['ALTERSKATEGORIE_FEIN',\n",
    "                    'D19_LOTTO',\n",
    "                    'HH_DELTA_FLAG',\n",
    "                    'D19_TELKO_ONLINE_QUOTE_12',\n",
    "                    'D19_GESAMT_ONLINE_QUOTE_12',\n",
    "                    'D19_BANKEN_ONLINE_QUOTE_12',\n",
    "                    'D19_SOZIALES',\n",
    "                    'D19_VERSAND_ONLINE_QUOTE_12',\n",
    "                    'D19_VERSI_ONLINE_QUOTE_12']\n",
    "\n",
    "for column in cols_input_zero:\n",
    "    azdias[column] = azdias[column].fillna(0)\n",
    "    customers[column] = customers[column].fillna(0)\n"
   ]
  },
  {
   "cell_type": "code",
   "execution_count": 28,
   "id": "f53a9a3e",
   "metadata": {
    "ExecuteTime": {
     "end_time": "2022-12-05T08:32:15.063313Z",
     "start_time": "2022-12-05T08:32:14.968391Z"
    }
   },
   "outputs": [],
   "source": [
    "#columns we values correspond to unknown\n",
    "azdias['MOBI_REGIO'] = azdias['MOBI_REGIO'].fillna(6)\n",
    "customers['MOBI_REGIO'] = customers['MOBI_REGIO'].fillna(6)\n",
    "\n",
    "azdias['D19_KONSUMTYP'] = azdias['D19_KONSUMTYP'].fillna(9)\n",
    "customers['D19_KONSUMTYP'] = customers['D19_KONSUMTYP'].fillna(9)\n",
    "\n",
    "azdias['D19_LETZTER_KAUF_BRANCHE'] = azdias['D19_LETZTER_KAUF_BRANCHE'].fillna('D19_UNBEKANNT')\n",
    "customers['D19_LETZTER_KAUF_BRANCHE'] = customers['D19_LETZTER_KAUF_BRANCHE'].fillna('D19_UNBEKANNT')"
   ]
  },
  {
   "cell_type": "code",
   "execution_count": 29,
   "id": "7a2dc152",
   "metadata": {
    "ExecuteTime": {
     "end_time": "2022-12-05T08:32:15.792549Z",
     "start_time": "2022-12-05T08:32:15.064293Z"
    },
    "scrolled": true
   },
   "outputs": [
    {
     "data": {
      "text/plain": [
       "VHN                           0.135989\n",
       "PLZ8_BAUMAX                   0.130736\n",
       "KBA13_ANTG1                   0.118714\n",
       "KBA13_KMH_210                 0.118714\n",
       "KBA13_HHZ                     0.118714\n",
       "KBA13_GBZ                     0.118714\n",
       "KBA13_CCM_1401_2500           0.118714\n",
       "KBA13_BAUMAX                  0.118714\n",
       "KBA13_ANTG4                   0.118714\n",
       "KBA13_ANTG3                   0.118714\n",
       "KBA13_ANTG2                   0.118714\n",
       "KBA13_ANZAHL_PKW              0.118714\n",
       "CAMEO_INTL_2015               0.111060\n",
       "CAMEO_DEU_2015                0.111060\n",
       "UMFELD_JUNG                   0.109721\n",
       "UMFELD_ALT                    0.109721\n",
       "GEMEINDETYP                   0.109147\n",
       "STRUKTURTYP                   0.109147\n",
       "VERDICHTUNGSRAUM              0.109147\n",
       "ARBEIT                        0.109082\n",
       "ANZ_HH_TITEL                  0.108848\n",
       "KONSUMZELLE                   0.104525\n",
       "GEBAEUDETYP_RASTER            0.104525\n",
       "FIRMENDICHTE                  0.104525\n",
       "MIN_GEBAEUDEJAHR              0.104517\n",
       "MOBI_RASTER                   0.104517\n",
       "ANZ_STATISTISCHE_HAUSHALTE    0.104517\n",
       "DSL_FLAG                      0.104517\n",
       "EINGEFUEGT_AM                 0.104517\n",
       "ANZ_HAUSHALTE_AKTIV           0.104517\n",
       "dtype: float64"
      ]
     },
     "execution_count": 29,
     "metadata": {},
     "output_type": "execute_result"
    }
   ],
   "source": [
    "missing_azdias = azdias.isnull().sum() / azdias.shape[0]\n",
    "missing_azdias[missing_azdias > .1].sort_values(ascending=False)"
   ]
  },
  {
   "cell_type": "code",
   "execution_count": 30,
   "id": "94939d63",
   "metadata": {
    "ExecuteTime": {
     "end_time": "2022-12-05T08:32:20.642233Z",
     "start_time": "2022-12-05T08:32:15.794547Z"
    }
   },
   "outputs": [],
   "source": [
    "#Now that we have only 14% of rows with NaNs, we will drop those since we couldn't identify unknown values\n",
    "#and it only represents a small portion of our dataset\n",
    "\n",
    "#first create a copy of the df\n",
    "azdias_clean = azdias.copy()\n",
    "customers_clean = customers.copy()\n",
    "\n",
    "#dropa NAs\n",
    "azdias_clean.dropna(inplace=True)\n",
    "customers_clean.dropna(inplace=True)"
   ]
  },
  {
   "cell_type": "code",
   "execution_count": 31,
   "id": "ae17fce7",
   "metadata": {
    "ExecuteTime": {
     "end_time": "2022-12-05T08:32:20.767106Z",
     "start_time": "2022-12-05T08:32:20.714161Z"
    }
   },
   "outputs": [
    {
     "data": {
      "text/plain": [
       "891221"
      ]
     },
     "execution_count": 31,
     "metadata": {},
     "output_type": "execute_result"
    }
   ],
   "source": [
    "#original dataframe rows number\n",
    "azdias.shape[0]"
   ]
  },
  {
   "cell_type": "code",
   "execution_count": 32,
   "id": "2b02227c",
   "metadata": {
    "ExecuteTime": {
     "end_time": "2022-12-05T08:32:21.081783Z",
     "start_time": "2022-12-05T08:32:20.768104Z"
    }
   },
   "outputs": [
    {
     "data": {
      "text/plain": [
       "737625"
      ]
     },
     "execution_count": 32,
     "metadata": {},
     "output_type": "execute_result"
    }
   ],
   "source": [
    "#cleaned dataframe rows number\n",
    "azdias_clean.shape[0]"
   ]
  },
  {
   "cell_type": "code",
   "execution_count": 33,
   "id": "8fbec60d",
   "metadata": {
    "ExecuteTime": {
     "end_time": "2022-12-05T08:32:22.193045Z",
     "start_time": "2022-12-05T08:32:21.083782Z"
    }
   },
   "outputs": [
    {
     "data": {
      "text/plain": [
       "Series([], dtype: float64)"
      ]
     },
     "execution_count": 33,
     "metadata": {},
     "output_type": "execute_result"
    }
   ],
   "source": [
    "#checking azdias clean dataframe missing values\n",
    "missing_azdias_clean = azdias_clean.isnull().sum() / azdias_clean.shape[0]\n",
    "missing_azdias_clean[missing_azdias_clean > .1].sort_values(ascending=False)"
   ]
  },
  {
   "cell_type": "code",
   "execution_count": 34,
   "id": "6cc71bb8",
   "metadata": {
    "ExecuteTime": {
     "end_time": "2022-12-05T08:32:22.318292Z",
     "start_time": "2022-12-05T08:32:22.194044Z"
    }
   },
   "outputs": [
    {
     "data": {
      "text/plain": [
       "Series([], dtype: float64)"
      ]
     },
     "execution_count": 34,
     "metadata": {},
     "output_type": "execute_result"
    }
   ],
   "source": [
    "#checking customers clean dataframe missing values\n",
    "missing_customers_clean = customers_clean.isnull().sum() / customers_clean.shape[0]\n",
    "missing_customers_clean[missing_customers_clean > .1].sort_values(ascending=False)"
   ]
  },
  {
   "cell_type": "markdown",
   "id": "567e9dc0",
   "metadata": {},
   "source": [
    "## 2.4 Feature Selection"
   ]
  },
  {
   "cell_type": "code",
   "execution_count": 35,
   "id": "b9ad7307",
   "metadata": {
    "ExecuteTime": {
     "end_time": "2022-12-05T08:32:22.427443Z",
     "start_time": "2022-12-05T08:32:22.320294Z"
    }
   },
   "outputs": [
    {
     "data": {
      "text/plain": [
       "360"
      ]
     },
     "execution_count": 35,
     "metadata": {},
     "output_type": "execute_result"
    }
   ],
   "source": [
    "azdias_clean.shape[1]"
   ]
  },
  {
   "cell_type": "markdown",
   "id": "5d2d2f75",
   "metadata": {},
   "source": [
    "We have 360 attributes in total. For our model purpose that is too much. This can get in our way when we try to predict our most important features.\n",
    "\n",
    "We will perform some cleaning regarding feature selection so we can have the most important attributes for our model."
   ]
  },
  {
   "cell_type": "code",
   "execution_count": 36,
   "id": "bf71baac",
   "metadata": {
    "ExecuteTime": {
     "end_time": "2022-12-05T08:32:24.006663Z",
     "start_time": "2022-12-05T08:32:22.429439Z"
    }
   },
   "outputs": [],
   "source": [
    "# First let's get rid of categorical columns that are not relevant for our model\n",
    "azdias_dropable_columns = azdias_clean.select_dtypes(include=['object']).columns"
   ]
  },
  {
   "cell_type": "code",
   "execution_count": 37,
   "id": "5ff392de",
   "metadata": {
    "ExecuteTime": {
     "end_time": "2022-12-05T08:32:24.084074Z",
     "start_time": "2022-12-05T08:32:24.008664Z"
    }
   },
   "outputs": [],
   "source": [
    "customers_dropable_columns = customers_clean.select_dtypes(include=['object']).columns"
   ]
  },
  {
   "cell_type": "code",
   "execution_count": 38,
   "id": "81354e82",
   "metadata": {
    "ExecuteTime": {
     "end_time": "2022-12-05T08:32:25.293081Z",
     "start_time": "2022-12-05T08:32:24.085060Z"
    },
    "scrolled": true
   },
   "outputs": [],
   "source": [
    "azdias_clean = azdias_clean.drop(columns=azdias_dropable_columns, axis=1)\n",
    "customers_clean = customers_clean.drop(columns=customers_dropable_columns, axis=1)"
   ]
  },
  {
   "cell_type": "code",
   "execution_count": 70,
   "id": "6c8fa9f4",
   "metadata": {
    "ExecuteTime": {
     "end_time": "2022-12-06T03:07:21.006288Z",
     "start_time": "2022-12-06T03:07:21.001296Z"
    }
   },
   "outputs": [
    {
     "data": {
      "text/plain": [
       "(129753, 356)"
      ]
     },
     "execution_count": 70,
     "metadata": {},
     "output_type": "execute_result"
    }
   ],
   "source": [
    "customers_clean.shape"
   ]
  },
  {
   "cell_type": "code",
   "execution_count": 69,
   "id": "c0da1ca0",
   "metadata": {
    "ExecuteTime": {
     "end_time": "2022-12-06T03:07:18.024448Z",
     "start_time": "2022-12-06T03:07:16.856072Z"
    }
   },
   "outputs": [],
   "source": [
    "#Let's drop the LNR column as it works as an index\n",
    "azdias_clean.drop(columns=['LNR'], axis=1, inplace=True)\n",
    "customers_clean.drop(columns=['LNR'], axis=1, inplace=True)"
   ]
  },
  {
   "cell_type": "code",
   "execution_count": null,
   "id": "1cb32ffe",
   "metadata": {},
   "outputs": [],
   "source": []
  },
  {
   "cell_type": "markdown",
   "id": "6559469b",
   "metadata": {},
   "source": [
    "## 2.5 Train and Test dataset"
   ]
  },
  {
   "cell_type": "markdown",
   "id": "fa6fcf6c",
   "metadata": {},
   "source": [
    "Now let's perform the same cleasing to the train and test dataset"
   ]
  },
  {
   "cell_type": "code",
   "execution_count": 45,
   "id": "cb9f24e5",
   "metadata": {
    "ExecuteTime": {
     "end_time": "2022-12-06T02:51:17.811949Z",
     "start_time": "2022-12-06T02:51:15.380916Z"
    }
   },
   "outputs": [
    {
     "name": "stderr",
     "output_type": "stream",
     "text": [
      "C:\\Users\\iCone\\anaconda3\\lib\\site-packages\\IPython\\core\\interactiveshell.py:3135: DtypeWarning: Columns (18,19) have mixed types.Specify dtype option on import or set low_memory=False.\n",
      "  has_raised = await self.run_ast_nodes(code_ast.body, cell_name,\n"
     ]
    }
   ],
   "source": [
    "df_train = pd.read_csv('data/Udacity_MAILOUT_052018_TRAIN.csv', sep=';')\n",
    "df_test = pd.read_csv('data/Udacity_MAILOUT_052018_TEST.csv', sep=';')"
   ]
  },
  {
   "cell_type": "code",
   "execution_count": 46,
   "id": "d32b74a5",
   "metadata": {
    "ExecuteTime": {
     "end_time": "2022-12-06T02:51:18.721460Z",
     "start_time": "2022-12-06T02:51:18.547466Z"
    }
   },
   "outputs": [
    {
     "data": {
      "text/html": [
       "<div>\n",
       "<style scoped>\n",
       "    .dataframe tbody tr th:only-of-type {\n",
       "        vertical-align: middle;\n",
       "    }\n",
       "\n",
       "    .dataframe tbody tr th {\n",
       "        vertical-align: top;\n",
       "    }\n",
       "\n",
       "    .dataframe thead th {\n",
       "        text-align: right;\n",
       "    }\n",
       "</style>\n",
       "<table border=\"1\" class=\"dataframe\">\n",
       "  <thead>\n",
       "    <tr style=\"text-align: right;\">\n",
       "      <th></th>\n",
       "      <th>LNR</th>\n",
       "      <th>AGER_TYP</th>\n",
       "      <th>AKT_DAT_KL</th>\n",
       "      <th>ALTER_HH</th>\n",
       "      <th>ALTER_KIND1</th>\n",
       "      <th>ALTER_KIND2</th>\n",
       "      <th>ALTER_KIND3</th>\n",
       "      <th>ALTER_KIND4</th>\n",
       "      <th>ALTERSKATEGORIE_FEIN</th>\n",
       "      <th>ANZ_HAUSHALTE_AKTIV</th>\n",
       "      <th>...</th>\n",
       "      <th>VK_DHT4A</th>\n",
       "      <th>VK_DISTANZ</th>\n",
       "      <th>VK_ZG11</th>\n",
       "      <th>W_KEIT_KIND_HH</th>\n",
       "      <th>WOHNDAUER_2008</th>\n",
       "      <th>WOHNLAGE</th>\n",
       "      <th>ZABEOTYP</th>\n",
       "      <th>RESPONSE</th>\n",
       "      <th>ANREDE_KZ</th>\n",
       "      <th>ALTERSKATEGORIE_GROB</th>\n",
       "    </tr>\n",
       "  </thead>\n",
       "  <tbody>\n",
       "    <tr>\n",
       "      <th>0</th>\n",
       "      <td>1763</td>\n",
       "      <td>2</td>\n",
       "      <td>1.0</td>\n",
       "      <td>8.0</td>\n",
       "      <td>NaN</td>\n",
       "      <td>NaN</td>\n",
       "      <td>NaN</td>\n",
       "      <td>NaN</td>\n",
       "      <td>8.0</td>\n",
       "      <td>15.0</td>\n",
       "      <td>...</td>\n",
       "      <td>5.0</td>\n",
       "      <td>2.0</td>\n",
       "      <td>1.0</td>\n",
       "      <td>6.0</td>\n",
       "      <td>9.0</td>\n",
       "      <td>3.0</td>\n",
       "      <td>3</td>\n",
       "      <td>0</td>\n",
       "      <td>2</td>\n",
       "      <td>4</td>\n",
       "    </tr>\n",
       "    <tr>\n",
       "      <th>1</th>\n",
       "      <td>1771</td>\n",
       "      <td>1</td>\n",
       "      <td>4.0</td>\n",
       "      <td>13.0</td>\n",
       "      <td>NaN</td>\n",
       "      <td>NaN</td>\n",
       "      <td>NaN</td>\n",
       "      <td>NaN</td>\n",
       "      <td>13.0</td>\n",
       "      <td>1.0</td>\n",
       "      <td>...</td>\n",
       "      <td>1.0</td>\n",
       "      <td>2.0</td>\n",
       "      <td>1.0</td>\n",
       "      <td>4.0</td>\n",
       "      <td>9.0</td>\n",
       "      <td>7.0</td>\n",
       "      <td>1</td>\n",
       "      <td>0</td>\n",
       "      <td>2</td>\n",
       "      <td>3</td>\n",
       "    </tr>\n",
       "    <tr>\n",
       "      <th>2</th>\n",
       "      <td>1776</td>\n",
       "      <td>1</td>\n",
       "      <td>1.0</td>\n",
       "      <td>9.0</td>\n",
       "      <td>NaN</td>\n",
       "      <td>NaN</td>\n",
       "      <td>NaN</td>\n",
       "      <td>NaN</td>\n",
       "      <td>7.0</td>\n",
       "      <td>0.0</td>\n",
       "      <td>...</td>\n",
       "      <td>6.0</td>\n",
       "      <td>4.0</td>\n",
       "      <td>2.0</td>\n",
       "      <td>NaN</td>\n",
       "      <td>9.0</td>\n",
       "      <td>2.0</td>\n",
       "      <td>3</td>\n",
       "      <td>0</td>\n",
       "      <td>1</td>\n",
       "      <td>4</td>\n",
       "    </tr>\n",
       "    <tr>\n",
       "      <th>3</th>\n",
       "      <td>1460</td>\n",
       "      <td>2</td>\n",
       "      <td>1.0</td>\n",
       "      <td>6.0</td>\n",
       "      <td>NaN</td>\n",
       "      <td>NaN</td>\n",
       "      <td>NaN</td>\n",
       "      <td>NaN</td>\n",
       "      <td>6.0</td>\n",
       "      <td>4.0</td>\n",
       "      <td>...</td>\n",
       "      <td>8.0</td>\n",
       "      <td>11.0</td>\n",
       "      <td>11.0</td>\n",
       "      <td>6.0</td>\n",
       "      <td>9.0</td>\n",
       "      <td>1.0</td>\n",
       "      <td>3</td>\n",
       "      <td>0</td>\n",
       "      <td>2</td>\n",
       "      <td>4</td>\n",
       "    </tr>\n",
       "    <tr>\n",
       "      <th>4</th>\n",
       "      <td>1783</td>\n",
       "      <td>2</td>\n",
       "      <td>1.0</td>\n",
       "      <td>9.0</td>\n",
       "      <td>NaN</td>\n",
       "      <td>NaN</td>\n",
       "      <td>NaN</td>\n",
       "      <td>NaN</td>\n",
       "      <td>9.0</td>\n",
       "      <td>53.0</td>\n",
       "      <td>...</td>\n",
       "      <td>2.0</td>\n",
       "      <td>2.0</td>\n",
       "      <td>1.0</td>\n",
       "      <td>6.0</td>\n",
       "      <td>9.0</td>\n",
       "      <td>3.0</td>\n",
       "      <td>3</td>\n",
       "      <td>0</td>\n",
       "      <td>1</td>\n",
       "      <td>3</td>\n",
       "    </tr>\n",
       "  </tbody>\n",
       "</table>\n",
       "<p>5 rows × 367 columns</p>\n",
       "</div>"
      ],
      "text/plain": [
       "    LNR  AGER_TYP  AKT_DAT_KL  ALTER_HH  ALTER_KIND1  ALTER_KIND2  \\\n",
       "0  1763         2         1.0       8.0          NaN          NaN   \n",
       "1  1771         1         4.0      13.0          NaN          NaN   \n",
       "2  1776         1         1.0       9.0          NaN          NaN   \n",
       "3  1460         2         1.0       6.0          NaN          NaN   \n",
       "4  1783         2         1.0       9.0          NaN          NaN   \n",
       "\n",
       "   ALTER_KIND3  ALTER_KIND4  ALTERSKATEGORIE_FEIN  ANZ_HAUSHALTE_AKTIV  ...  \\\n",
       "0          NaN          NaN                   8.0                 15.0  ...   \n",
       "1          NaN          NaN                  13.0                  1.0  ...   \n",
       "2          NaN          NaN                   7.0                  0.0  ...   \n",
       "3          NaN          NaN                   6.0                  4.0  ...   \n",
       "4          NaN          NaN                   9.0                 53.0  ...   \n",
       "\n",
       "   VK_DHT4A  VK_DISTANZ  VK_ZG11  W_KEIT_KIND_HH  WOHNDAUER_2008  WOHNLAGE  \\\n",
       "0       5.0         2.0      1.0             6.0             9.0       3.0   \n",
       "1       1.0         2.0      1.0             4.0             9.0       7.0   \n",
       "2       6.0         4.0      2.0             NaN             9.0       2.0   \n",
       "3       8.0        11.0     11.0             6.0             9.0       1.0   \n",
       "4       2.0         2.0      1.0             6.0             9.0       3.0   \n",
       "\n",
       "   ZABEOTYP RESPONSE ANREDE_KZ ALTERSKATEGORIE_GROB  \n",
       "0         3        0         2                    4  \n",
       "1         1        0         2                    3  \n",
       "2         3        0         1                    4  \n",
       "3         3        0         2                    4  \n",
       "4         3        0         1                    3  \n",
       "\n",
       "[5 rows x 367 columns]"
      ]
     },
     "execution_count": 46,
     "metadata": {},
     "output_type": "execute_result"
    }
   ],
   "source": [
    "df_train.head()"
   ]
  },
  {
   "cell_type": "code",
   "execution_count": 48,
   "id": "e8bd2150",
   "metadata": {
    "ExecuteTime": {
     "end_time": "2022-12-06T02:52:33.712030Z",
     "start_time": "2022-12-06T02:52:33.613750Z"
    }
   },
   "outputs": [],
   "source": [
    "#replacing X in the \"CAMEO_DEUG_2015\" column\n",
    "df_train['CAMEO_DEUG_2015'] = df_train['CAMEO_DEUG_2015'].replace('X', -1).astype(float)\n",
    "df_test['CAMEO_DEUG_2015'] = df_test['CAMEO_DEUG_2015'].replace('X', -1).astype(float) \n",
    "\n",
    "#replacing XX in the \"CAMEO_DEUG_2015\" column\n",
    "df_train['CAMEO_INTL_2015'] = df_train['CAMEO_INTL_2015'].replace('XX', -1).astype(float)\n",
    "df_test['CAMEO_INTL_2015'] = df_test['CAMEO_INTL_2015'].replace('XX', -1).astype(float) "
   ]
  },
  {
   "cell_type": "code",
   "execution_count": 51,
   "id": "f5ca8570",
   "metadata": {
    "ExecuteTime": {
     "end_time": "2022-12-06T02:53:27.018967Z",
     "start_time": "2022-12-06T02:53:26.686682Z"
    }
   },
   "outputs": [],
   "source": [
    "#Chaning NaN for unknown\n",
    "df_train = unknown_replace_nans(df_train, df_att)\n",
    "df_test = unknown_replace_nans(df_test, df_att)"
   ]
  },
  {
   "cell_type": "code",
   "execution_count": 56,
   "id": "7d49f977",
   "metadata": {
    "ExecuteTime": {
     "end_time": "2022-12-06T02:55:30.157492Z",
     "start_time": "2022-12-06T02:55:29.993601Z"
    }
   },
   "outputs": [],
   "source": [
    "#checking missing values with 40%+ from azdias\n",
    "missing_df_train = df_train.isnull().sum() / df_train.shape[0]\n",
    "missing_df_train = missing_df_train[missing_df_train > .4].sort_values(ascending=False).index.tolist()\n",
    "\n",
    "#Let's drop these 40%+ columns\n",
    "df_train = df_train.drop(columns=missing_df_train)"
   ]
  },
  {
   "cell_type": "code",
   "execution_count": 57,
   "id": "3da6c9e9",
   "metadata": {
    "ExecuteTime": {
     "end_time": "2022-12-06T02:55:30.287355Z",
     "start_time": "2022-12-06T02:55:30.176458Z"
    }
   },
   "outputs": [],
   "source": [
    "#checking missing values with 40%+ from azdias\n",
    "missing_df_test = df_test.isnull().sum() / df_test.shape[0]\n",
    "missing_df_test = missing_df_test[missing_df_test > .4].sort_values(ascending=False).index.tolist()\n",
    "\n",
    "#Let's drop these 40%+ columns\n",
    "df_test = df_test.drop(columns=missing_df_test)"
   ]
  },
  {
   "cell_type": "code",
   "execution_count": 59,
   "id": "17637451",
   "metadata": {
    "ExecuteTime": {
     "end_time": "2022-12-06T02:56:07.338188Z",
     "start_time": "2022-12-06T02:56:07.324189Z"
    }
   },
   "outputs": [],
   "source": [
    "#Let's input 0 where it means unknown\n",
    "cols_input_zero = ['ALTERSKATEGORIE_FEIN',\n",
    "                    'D19_LOTTO',\n",
    "                    'HH_DELTA_FLAG',\n",
    "                    'D19_TELKO_ONLINE_QUOTE_12',\n",
    "                    'D19_GESAMT_ONLINE_QUOTE_12',\n",
    "                    'D19_BANKEN_ONLINE_QUOTE_12',\n",
    "                    'D19_SOZIALES',\n",
    "                    'D19_VERSAND_ONLINE_QUOTE_12',\n",
    "                    'D19_VERSI_ONLINE_QUOTE_12']\n",
    "\n",
    "for column in cols_input_zero:\n",
    "    df_train[column] = df_train[column].fillna(0)\n",
    "    df_test[column] = df_test[column].fillna(0)\n"
   ]
  },
  {
   "cell_type": "code",
   "execution_count": 60,
   "id": "e6fca74e",
   "metadata": {
    "ExecuteTime": {
     "end_time": "2022-12-06T02:56:35.162208Z",
     "start_time": "2022-12-06T02:56:35.149221Z"
    }
   },
   "outputs": [],
   "source": [
    "#columns we values correspond to unknown\n",
    "df_train['MOBI_REGIO'] = df_train['MOBI_REGIO'].fillna(6)\n",
    "df_test['MOBI_REGIO'] = df_test['MOBI_REGIO'].fillna(6)\n",
    "\n",
    "df_train['D19_KONSUMTYP'] = df_train['D19_KONSUMTYP'].fillna(9)\n",
    "df_test['D19_KONSUMTYP'] = df_test['D19_KONSUMTYP'].fillna(9)\n",
    "\n",
    "df_train['D19_LETZTER_KAUF_BRANCHE'] = df_train['D19_LETZTER_KAUF_BRANCHE'].fillna('D19_UNBEKANNT')\n",
    "df_test['D19_LETZTER_KAUF_BRANCHE'] = df_test['D19_LETZTER_KAUF_BRANCHE'].fillna('D19_UNBEKANNT')"
   ]
  },
  {
   "cell_type": "code",
   "execution_count": 61,
   "id": "74fdf4ca",
   "metadata": {
    "ExecuteTime": {
     "end_time": "2022-12-06T02:57:16.952404Z",
     "start_time": "2022-12-06T02:57:16.608755Z"
    }
   },
   "outputs": [],
   "source": [
    "#Now that we have only 14% of rows with NaNs, we will drop those since we couldn't identify unknown values\n",
    "#and it only represents a small portion of our dataset\n",
    "\n",
    "#first create a copy of the df\n",
    "df_train_clean = df_train.copy()\n",
    "df_test_clean = df_test.copy()\n",
    "\n",
    "#dropa NAs\n",
    "df_train_clean.dropna(inplace=True)\n",
    "df_test_clean.dropna(inplace=True)"
   ]
  },
  {
   "cell_type": "code",
   "execution_count": 63,
   "id": "08f42cca",
   "metadata": {
    "ExecuteTime": {
     "end_time": "2022-12-06T02:58:28.828671Z",
     "start_time": "2022-12-06T02:58:28.752732Z"
    }
   },
   "outputs": [],
   "source": [
    "# First let's get rid of categorical columns that are not relevant for our model\n",
    "df_train_dropable_columns = df_train_clean.select_dtypes(include=['object']).columns\n",
    "df_test_dropable_columns = df_test_clean.select_dtypes(include=['object']).columns\n",
    "\n",
    "df_train_clean = df_train_clean.drop(columns=df_train_dropable_columns, axis=1)\n",
    "df_test_clean = df_test_clean.drop(columns=df_test_dropable_columns, axis=1)"
   ]
  },
  {
   "cell_type": "markdown",
   "id": "349342a0",
   "metadata": {},
   "source": [
    "# 3.0 Export Cleaned Data"
   ]
  },
  {
   "cell_type": "code",
   "execution_count": 64,
   "id": "51d4b250",
   "metadata": {
    "ExecuteTime": {
     "end_time": "2022-12-06T03:03:17.219185Z",
     "start_time": "2022-12-06T03:00:32.980325Z"
    }
   },
   "outputs": [],
   "source": [
    "azdias_clean.to_csv('data/clean_AZDIAS.csv')\n",
    "customers_clean.to_csv('data/clean_CUSTOMERS.csv')\n",
    "df_train_clean.to_csv('data/clean_TRAIN.csv')\n",
    "df_test_clean.to_csv('data/clean_TEST.csv')"
   ]
  },
  {
   "cell_type": "code",
   "execution_count": null,
   "id": "b512e4fe",
   "metadata": {},
   "outputs": [],
   "source": []
  },
  {
   "cell_type": "code",
   "execution_count": null,
   "id": "f5856679",
   "metadata": {},
   "outputs": [],
   "source": []
  },
  {
   "cell_type": "code",
   "execution_count": null,
   "id": "ab26221b",
   "metadata": {},
   "outputs": [],
   "source": []
  },
  {
   "cell_type": "code",
   "execution_count": null,
   "id": "2622e7ee",
   "metadata": {},
   "outputs": [],
   "source": []
  }
 ],
 "metadata": {
  "kernelspec": {
   "display_name": "Python 3",
   "language": "python",
   "name": "python3"
  },
  "language_info": {
   "codemirror_mode": {
    "name": "ipython",
    "version": 3
   },
   "file_extension": ".py",
   "mimetype": "text/x-python",
   "name": "python",
   "nbconvert_exporter": "python",
   "pygments_lexer": "ipython3",
   "version": "3.8.8"
  }
 },
 "nbformat": 4,
 "nbformat_minor": 5
}
